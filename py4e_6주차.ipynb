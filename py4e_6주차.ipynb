{
  "cells": [
    {
      "cell_type": "markdown",
      "metadata": {
        "id": "view-in-github",
        "colab_type": "text"
      },
      "source": [
        "<a href=\"https://colab.research.google.com/github/zergswim/study/blob/main/py4e_6%EC%A3%BC%EC%B0%A8.ipynb\" target=\"_parent\"><img src=\"https://colab.research.google.com/assets/colab-badge.svg\" alt=\"Open In Colab\"/></a>"
      ]
    },
    {
      "cell_type": "code",
      "execution_count": 8,
      "metadata": {
        "colab": {
          "base_uri": "https://localhost:8080/"
        },
        "id": "eZUaJwXh8sIj",
        "outputId": "124d3825-7bdc-4ebd-cd91-28a9cd2f67cd"
      },
      "outputs": [
        {
          "output_type": "stream",
          "name": "stdout",
          "text": [
            "조선과 고려에 모두 있는 왕 이름 : 태조\n",
            "조선과 고려에 모두 있는 왕 이름 : 정종\n",
            "조선과 고려에 모두 있는 왕 이름 : 경종\n",
            "조선과 고려에 모두 있는 왕 이름 : 성종\n",
            "조선과 고려에 모두 있는 왕 이름 : 현종\n",
            "조선과 고려에 모두 있는 왕 이름 : 문종\n",
            "조선과 고려에 모두 있는 왕 이름 : 순종\n",
            "조선과 고려에 모두 있는 왕 이름 : 헌종\n",
            "조선과 고려에 모두 있는 왕 이름 : 숙종\n",
            "조선과 고려에 모두 있는 왕 이름 : 예종\n",
            "조선과 고려에 모두 있는 왕 이름 : 인종\n",
            "조선과 고려에 모두 있는 왕 이름 : 명종\n",
            "조선과 고려에 모두 있는 왕 이름 : 고종\n",
            "조선과 고려에 모두 있는 왕 이름은 총 13개 입니다\n"
          ]
        }
      ],
      "source": [
        "#Q1. 고려시대와 조선시대 왕 이름 중에서 고려에도 있고 조선에도 있는 이름은 몇개 일까요?\n",
        "#조건1 - 중복되는 왕 이름 출력\n",
        "#조건2 - 중복되는 왕 이름의 수 출력\n",
        "\n",
        "# 왕이름\n",
        "korea_king = \"태조,혜종,정종,광종,경종,성종,목종,현종,덕종,정종,문종,순종,선종,헌종,숙종,예종,인종,의종,명종,신종,희종,강종,고종,원조,충렬왕,충선왕,충숙왕,충혜왕,충목왕,충정왕,공민왕,우왕,창왕,공양왕\"\n",
        "chosun_king = \"태조,정종,태종,세종,문종,단종,세조,예종,성종,연산군,중종,인종,명종,선조,광해군,인조,효종,현종,숙종,경종,영조,정조,순조,헌종,철종,고종,순종\"\n",
        "\n",
        "k_dict = {}\n",
        "arr_k = korea_king.split(',')\n",
        "arr_c = chosun_king.split(',')\n",
        "\n",
        "def makeKey(k):\n",
        "  if k not in k_dict.keys(): k_dict[k] = 1\n",
        "  else: k_dict[k] += 1\n",
        "\n",
        "for k in arr_k: makeKey(k)  \n",
        "for c in arr_c: makeKey(c)\n",
        "\n",
        "cnt = 0\n",
        "for k, v in k_dict.items():\n",
        "   if v > 1: print(\"조선과 고려에 모두 있는 왕 이름 :\", k); cnt+=1\n",
        "\n",
        "print(f\"조선과 고려에 모두 있는 왕 이름은 총 {cnt}개 입니다\")"
      ]
    },
    {
      "cell_type": "code",
      "execution_count": 30,
      "metadata": {
        "colab": {
          "base_uri": "https://localhost:8080/"
        },
        "id": "g8JZP10ASqzC",
        "outputId": "62f74b16-c5b5-4ca7-9dec-e8bb5aa1260a"
      },
      "outputs": [
        {
          "output_type": "stream",
          "name": "stdout",
          "text": [
            "[('병돌이', 86, 7.166666666666667), ('을순이', 64, 5.333333333333333), ('병순이', 57, 4.75), ('갑돌이', 48, 4.0), ('을돌이', 37, 3.0833333333333335), ('갑순이', 34, 2.8333333333333335)]\n",
            "보너스 대상자 병돌이\n",
            "보너스 대상자 을순이\n",
            "면담 대상자 갑순이\n"
          ]
        }
      ],
      "source": [
        "#Q2. 파이썬을 이용하여 함수를 만들어 보너스 대상자와 면담 대상자를 골라주세요.\n",
        "#조건 1 - 예비 보너스 대상자는 평균 실적 1등 2등 입니다.\n",
        "#조건 2 - 예비 면담 대상자는 평균 실적 5등 6등 입니다.\n",
        "#조건 3 - 보너스 대상자의 평균 실적이 5보다 크지 않으면 보너스 대상자에서 제외 됩니다.\n",
        "#조건 4 - 면담 대상자의 평균 실적이 3보다 크면 면담 대상자에서 제외 됩니다.\n",
        "\n",
        "# 이름, 실적\n",
        "member_names = [\"갑돌이\", \"갑순이\", \"을돌이\", \"을순이\", \"병돌이\", \"병순이\"]\n",
        "member_records = [[4,5,3,5,6,5,3,4,1,3,4,5],[2,3,4,3,1,2,0,3,2,5,7,2], \n",
        "           [1,3,0,3,3,4,5,6,7,2,2,1],[3,2,9,2,3,5,6,6,4,6,9,9],\n",
        "           [8,7,7,5,6,7,5,8,8,6,10,9],[7,8,4,9,5,10,3,3,2,2,1,3]]\n",
        "\n",
        "rank_list = []\n",
        "\n",
        "def sales_management(names, records):\n",
        "  for n, r in zip(names, records):\n",
        "    rank_list.append((n, sum(r), sum(r)/len(r)))\n",
        "\n",
        "  rank_list.sort(reverse=True, key=lambda rank_list: rank_list[1])\n",
        "  print(rank_list)\n",
        "  for idx, r in enumerate(rank_list):\n",
        "    name, avg = r[0], r[2]\n",
        "    if idx == 0 and avg>5: print(\"보너스 대상자\", name)\n",
        "    if idx == 1 and avg>5: print(\"보너스 대상자\", name)\n",
        "    if idx == 4 and avg<3: print(\"면담 대상자\", name)\n",
        "    if idx == 5 and avg<3: print(\"면담 대상자\", name)\n",
        "\n",
        "sales_management(member_names, member_records)"
      ]
    },
    {
      "cell_type": "code",
      "source": [
        ""
      ],
      "metadata": {
        "id": "Zkvv1UGLrpal"
      },
      "execution_count": null,
      "outputs": []
    }
  ],
  "metadata": {
    "colab": {
      "collapsed_sections": [],
      "name": "py4e_6주차.ipynb",
      "provenance": [],
      "authorship_tag": "ABX9TyNi3nPjVZVuZYCfXiVO6dzK",
      "include_colab_link": true
    },
    "kernelspec": {
      "display_name": "Python 3",
      "name": "python3"
    },
    "language_info": {
      "name": "python"
    }
  },
  "nbformat": 4,
  "nbformat_minor": 0
}