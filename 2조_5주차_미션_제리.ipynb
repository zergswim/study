{
  "nbformat": 4,
  "nbformat_minor": 0,
  "metadata": {
    "colab": {
      "name": "2조_5주차_미션 제리.ipynb",
      "provenance": [],
      "collapsed_sections": [],
      "authorship_tag": "ABX9TyMXtPvPihsC1kZffntyUxwS",
      "include_colab_link": true
    },
    "kernelspec": {
      "name": "python3",
      "display_name": "Python 3"
    },
    "language_info": {
      "name": "python"
    },
    "accelerator": "GPU"
  },
  "cells": [
    {
      "cell_type": "markdown",
      "metadata": {
        "id": "view-in-github",
        "colab_type": "text"
      },
      "source": [
        "<a href=\"https://colab.research.google.com/github/zergswim/study/blob/main/2%EC%A1%B0_5%EC%A3%BC%EC%B0%A8_%EB%AF%B8%EC%85%98_%EC%A0%9C%EB%A6%AC.ipynb\" target=\"_parent\"><img src=\"https://colab.research.google.com/assets/colab-badge.svg\" alt=\"Open In Colab\"/></a>"
      ]
    },
    {
      "cell_type": "code",
      "execution_count": 145,
      "metadata": {
        "id": "MlhJ0wmBHLfP"
      },
      "outputs": [],
      "source": [
        "#Q1.\n",
        "import torch\n",
        "import torch.nn as nn\n",
        "import torchvision.datasets as dset\n",
        "import torchvision.transforms as transforms\n",
        "\n",
        "from torch.utils.data import DataLoader\n",
        "\n",
        "#MNIST 데이터 다운로드\n",
        "root = './data'\n",
        "mnist_train = dset.MNIST(root=root, train=True, transform=transforms.ToTensor(), download=True) \n",
        "mnist_test = dset.MNIST(root=root, train=False, transform=transforms.ToTensor(), download=True)\n",
        "\n",
        "#데이터 로더 정의\n",
        "batch_size = 100\n",
        "train_loader = DataLoader(mnist_train, batch_size = batch_size, shuffle=True, drop_last=True)\n",
        "test_loader = DataLoader(mnist_test, batch_size = batch_size, shuffle=False, drop_last=True)\n",
        "\n",
        "# for X, y in test_loader:\n",
        "#     print(\"Shape of X [N, C, H, W]: \", X.shape)\n",
        "#     print(\"Shape of y: \", y.shape, y.dtype)\n",
        "#     break"
      ]
    },
    {
      "cell_type": "code",
      "source": [
        "#Q2\n",
        "device = torch.device('cuda' if torch.cuda.is_available() else 'cpu') #GPU 사용여부체크\n",
        "# linear = nn.Linear(784, 10, bias=True).to(device) #단순 선형레이어 정의\n",
        "# torch.nn.init.normal_(linear.weight) #레이어 초기화\n",
        "\n",
        "#nn.Module 상속, 커스텀 모델 정의\n",
        "class CustomModel(nn.Module): \n",
        "    def __init__(self):\n",
        "        super(CustomModel, self).__init__()\n",
        "        self.flatten = nn.Flatten()\n",
        "        self.linear_relu_stack = nn.Sequential(\n",
        "            nn.Linear(28*28, 512), #이미지 크기 28px*28px = 784\n",
        "            nn.ReLU(), #비선형처리(ReLU)\n",
        "            nn.Linear(512, 512), #중간레이어 지정\n",
        "            nn.ReLU(), #비선형처리(ReLU)\n",
        "            nn.Linear(512, 10) #결과값 0~9까지 = 10\n",
        "        )\n",
        "\n",
        "    def forward(self, x):\n",
        "        #x = self.flatten(x) #그냥 쭉펴서 백터로 넘김?\n",
        "        logits = self.linear_relu_stack(x)\n",
        "        return logits\n",
        "\n",
        "model = CustomModel().to(device)\n"
      ],
      "metadata": {
        "id": "sJQU1BvNJvR5"
      },
      "execution_count": 146,
      "outputs": []
    },
    {
      "cell_type": "code",
      "source": [
        "#Q3\n",
        "criterion = nn.CrossEntropyLoss().to(device) # lost function 정의\n",
        "optimizer = torch.optim.SGD(model.parameters(), lr=0.1) # SGD 방식, learning rate 지정"
      ],
      "metadata": {
        "id": "nislZQXQOcQ5"
      },
      "execution_count": 147,
      "outputs": []
    },
    {
      "cell_type": "code",
      "source": [
        "#Q4\n",
        "training_epochs = 5\n",
        "for epoch in range(training_epochs):\n",
        "    for i, (imgs, labels) in enumerate(train_loader):\n",
        "        imgs, labels = imgs.to(device), labels.to(device)\n",
        "        imgs = imgs.view(-1, 28*28)\n",
        "\n",
        "        #모델에 이미지내용 입력\n",
        "        #outputs = linear(imgs)\n",
        "        outputs = model(imgs)\n",
        "\n",
        "        #정답(labels)과의 error 계산\n",
        "        loss = criterion(outputs, labels) \n",
        "\n",
        "        optimizer.zero_grad()\n",
        "        loss.backward()    # gradients 계산(backpropagation)\n",
        "        optimizer.step()   # gradients 업데이트\n",
        "\n",
        "        _,pred = torch.max(outputs, 1) # 최대 출력값(예측)\n",
        "        accuracy = (labels == pred).float().mean() #labels 와 비교해서 정확도 계산\n",
        "\n",
        "        if (i+1) % 100 == 0:\n",
        "          print(\"Epoch [{}/{}], Step [{}/{}], Loss: {:.4f}, Accuracy: {:.2f}%\"\n",
        "          .format(epoch+1, training_epochs, i+1, len(train_loader), loss.item(), accuracy.item() * 100))"
      ],
      "metadata": {
        "id": "EDl9ktHkSJ10",
        "colab": {
          "base_uri": "https://localhost:8080/"
        },
        "outputId": "f17965d6-bf58-4c60-8e51-8f0478578249"
      },
      "execution_count": 148,
      "outputs": [
        {
          "output_type": "stream",
          "name": "stdout",
          "text": [
            "Epoch [1/5], Step [100/600], Loss: 0.6987, Accuracy: 80.00%\n",
            "Epoch [1/5], Step [200/600], Loss: 0.6388, Accuracy: 80.00%\n",
            "Epoch [1/5], Step [300/600], Loss: 0.2841, Accuracy: 93.00%\n",
            "Epoch [1/5], Step [400/600], Loss: 0.4609, Accuracy: 89.00%\n",
            "Epoch [1/5], Step [500/600], Loss: 0.1762, Accuracy: 92.00%\n",
            "Epoch [1/5], Step [600/600], Loss: 0.1526, Accuracy: 96.00%\n",
            "Epoch [2/5], Step [100/600], Loss: 0.3020, Accuracy: 88.00%\n",
            "Epoch [2/5], Step [200/600], Loss: 0.3502, Accuracy: 92.00%\n",
            "Epoch [2/5], Step [300/600], Loss: 0.1417, Accuracy: 95.00%\n",
            "Epoch [2/5], Step [400/600], Loss: 0.1881, Accuracy: 95.00%\n",
            "Epoch [2/5], Step [500/600], Loss: 0.1695, Accuracy: 94.00%\n",
            "Epoch [2/5], Step [600/600], Loss: 0.1644, Accuracy: 96.00%\n",
            "Epoch [3/5], Step [100/600], Loss: 0.1706, Accuracy: 95.00%\n",
            "Epoch [3/5], Step [200/600], Loss: 0.1022, Accuracy: 97.00%\n",
            "Epoch [3/5], Step [300/600], Loss: 0.1445, Accuracy: 96.00%\n",
            "Epoch [3/5], Step [400/600], Loss: 0.1019, Accuracy: 97.00%\n",
            "Epoch [3/5], Step [500/600], Loss: 0.1137, Accuracy: 97.00%\n",
            "Epoch [3/5], Step [600/600], Loss: 0.2819, Accuracy: 89.00%\n",
            "Epoch [4/5], Step [100/600], Loss: 0.2072, Accuracy: 97.00%\n",
            "Epoch [4/5], Step [200/600], Loss: 0.0648, Accuracy: 98.00%\n",
            "Epoch [4/5], Step [300/600], Loss: 0.1009, Accuracy: 96.00%\n",
            "Epoch [4/5], Step [400/600], Loss: 0.2113, Accuracy: 94.00%\n",
            "Epoch [4/5], Step [500/600], Loss: 0.1365, Accuracy: 96.00%\n",
            "Epoch [4/5], Step [600/600], Loss: 0.0527, Accuracy: 99.00%\n",
            "Epoch [5/5], Step [100/600], Loss: 0.1412, Accuracy: 97.00%\n",
            "Epoch [5/5], Step [200/600], Loss: 0.0454, Accuracy: 98.00%\n",
            "Epoch [5/5], Step [300/600], Loss: 0.0595, Accuracy: 98.00%\n",
            "Epoch [5/5], Step [400/600], Loss: 0.0976, Accuracy: 97.00%\n",
            "Epoch [5/5], Step [500/600], Loss: 0.0901, Accuracy: 97.00%\n",
            "Epoch [5/5], Step [600/600], Loss: 0.1066, Accuracy: 96.00%\n"
          ]
        }
      ]
    },
    {
      "cell_type": "code",
      "source": [
        "#Q5\n",
        "model.eval()\n",
        "# linear.eval()\n",
        "\n",
        "with torch.no_grad():\n",
        "  correct = 0\n",
        "  total = 0\n",
        "  for i, (imgs, labels) in enumerate(test_loader):\n",
        "    imgs, labels = imgs.to(device), labels.to(device)\n",
        "    imgs = imgs.view(-1, 28*28)\n",
        "\n",
        "#   outputs = linear(imgs)\n",
        "    outputs = model(imgs)\n",
        "\n",
        "    pred = outputs.data.max(1)[1] # 최대 출력값(예측)\n",
        "    #_,argmax = torch.max(outputs, 1)\n",
        "\n",
        "    total += imgs.size(0)\n",
        "    correct += (labels == pred).sum().item()\n",
        "\n",
        "  print(\"Test accuracy for {} images : {:.2f}%\".format(total, correct/total*100))\n",
        "\n",
        "#마지막 예측실패 이미지 체크\n",
        "import matplotlib.pyplot as plt\n",
        "\n",
        "for idx, notEq in enumerate((labels != pred)):\n",
        "  if(notEq):\n",
        "    print(\"실제값:\", labels[idx].item(), \" 예측값:\", pred[idx].item())\n",
        "    x = imgs[idx].view(28,28).cpu() #gpu 사용시, 왜 gpu 에 올라간 텐서는 numpy 변환이 안될까?\n",
        "    plt.imshow(x,cmap=\"Greys\", interpolation=\"nearest\")\n",
        "    plt.show()"
      ],
      "metadata": {
        "id": "eA95dEkgiDBn",
        "colab": {
          "base_uri": "https://localhost:8080/",
          "height": 834
        },
        "outputId": "be53af25-4b5f-4f47-9a34-18373e34368d"
      },
      "execution_count": 149,
      "outputs": [
        {
          "output_type": "stream",
          "name": "stdout",
          "text": [
            "Test accuracy for 10000 images : 96.75%\n",
            "실제값: 3  예측값: 5\n"
          ]
        },
        {
          "output_type": "display_data",
          "data": {
            "image/png": "[encoded data removed]",
            "text/plain": [
              "<Figure size 432x288 with 1 Axes>"
            ]
          },
          "metadata": {
            "needs_background": "light"
          }
        },
        {
          "output_type": "stream",
          "name": "stdout",
          "text": [
            "실제값: 3  예측값: 8\n"
          ]
        },
        {
          "output_type": "display_data",
          "data": {
            "image/png": "[encoded data removed]",
            "text/plain": [
              "<Figure size 432x288 with 1 Axes>"
            ]
          },
          "metadata": {
            "needs_background": "light"
          }
        },
        {
          "output_type": "stream",
          "name": "stdout",
          "text": [
            "실제값: 5  예측값: 6\n"
          ]
        },
        {
          "output_type": "display_data",
          "data": {
            "image/png": "[encoded data removed]",
            "text/plain": [
              "<Figure size 432x288 with 1 Axes>"
            ]
          },
          "metadata": {
            "needs_background": "light"
          }
        }
      ]
    },
    {
      "cell_type": "code",
      "source": [
        "#MNIST 학습모델 샘플데이터 테스트\n",
        "import matplotlib.pyplot as plt\n",
        "import random\n",
        "\n",
        "r = random.randint(0, len(mnist_test) - 1)\n",
        "X_single_data = mnist_test.test_data[r:r + 1].view(-1, 28*28).float().to(device)\n",
        "Y_single_data = mnist_test.test_labels[r:r + 1].to(device)\n",
        "\n",
        "print(\"Label: \", Y_single_data.item())\n",
        "single_prediction = model(X_single_data)\n",
        "#single_prediction = linear(X_single_data)\n",
        "print(\"Prediction: \", torch.argmax(single_prediction,1).item())\n",
        "plt.imshow(mnist_test.test_data[r:r + 1].view(28, 28),cmap=\"Greys\", interpolation=\"nearest\")\n",
        "plt.show()"
      ],
      "metadata": {
        "id": "HrjyFiH82XtD",
        "colab": {
          "base_uri": "https://localhost:8080/",
          "height": 394
        },
        "outputId": "a14aa814-fab0-4c42-b373-54184bd5f070"
      },
      "execution_count": 152,
      "outputs": [
        {
          "output_type": "stream",
          "name": "stdout",
          "text": [
            "Label:  7\n",
            "Prediction:  7\n"
          ]
        },
        {
          "output_type": "stream",
          "name": "stderr",
          "text": [
            "/usr/local/lib/python3.7/dist-packages/torchvision/datasets/mnist.py:67: UserWarning: test_data has been renamed data\n",
            "  warnings.warn(\"test_data has been renamed data\")\n",
            "/usr/local/lib/python3.7/dist-packages/torchvision/datasets/mnist.py:57: UserWarning: test_labels has been renamed targets\n",
            "  warnings.warn(\"test_labels has been renamed targets\")\n"
          ]
        },
        {
          "output_type": "display_data",
          "data": {
            "image/png": "[encoded data removed]",
            "text/plain": [
              "<Figure size 432x288 with 1 Axes>"
            ]
          },
          "metadata": {
            "needs_background": "light"
          }
        }
      ]
    }
  ]
}