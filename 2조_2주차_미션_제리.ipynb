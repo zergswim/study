{
  "nbformat": 4,
  "nbformat_minor": 0,
  "metadata": {
    "colab": {
      "name": "2조_2주차_미션 제리.ipynb",
      "provenance": [],
      "collapsed_sections": [],
      "authorship_tag": "ABX9TyNuHzqKIGFm7x1B+KpFnH4t",
      "include_colab_link": true
    },
    "kernelspec": {
      "name": "python3",
      "display_name": "Python 3"
    },
    "language_info": {
      "name": "python"
    }
  },
  "cells": [
    {
      "cell_type": "markdown",
      "metadata": {
        "id": "view-in-github",
        "colab_type": "text"
      },
      "source": [
        "<a href=\"https://colab.research.google.com/github/zergswim/study/blob/AI_basic/2%EC%A1%B0_2%EC%A3%BC%EC%B0%A8_%EB%AF%B8%EC%85%98_%EC%A0%9C%EB%A6%AC.ipynb\" target=\"_parent\"><img src=\"https://colab.research.google.com/assets/colab-badge.svg\" alt=\"Open In Colab\"/></a>"
      ]
    },
    {
      "cell_type": "code",
      "execution_count": null,
      "metadata": {
        "colab": {
          "base_uri": "https://localhost:8080/"
        },
        "id": "2ToInkh4YHaP",
        "outputId": "f9a005ec-900d-42fa-b179-7e1f6f74331e"
      },
      "outputs": [
        {
          "output_type": "stream",
          "name": "stdout",
          "text": [
            "62.5\n"
          ]
        }
      ],
      "source": [
        "#Q1\n",
        "class Score():\n",
        "  def __init__(self, _mid, _final):\n",
        "    self.mid = _mid\n",
        "    self.final = _final\n",
        "\n",
        "score = Score(50, 75)\n",
        "print((score.mid + score.final)/2)"
      ]
    },
    {
      "cell_type": "code",
      "source": [
        "#Q2\n",
        "class Car():\n",
        "  def __init__(self, fuel, wheels):\n",
        "    self.fuel = fuel\n",
        "    self.wheels = wheels\n",
        "\n",
        "class Bike(Car):\n",
        "  def __init__(self, _fuel, _wheels, _size):\n",
        "    super().__init__(_fuel, _wheels)\n",
        "    self.size = _size\n",
        "\n",
        "bike = Bike(\"gas\", 2, \"small\")\n",
        "print(bike.fuel, bike.wheels, bike.size)"
      ],
      "metadata": {
        "id": "9bX5ZcLuYcJd",
        "colab": {
          "base_uri": "https://localhost:8080/"
        },
        "outputId": "d4a565f6-0bce-438a-ff4d-8244efeabf6d"
      },
      "execution_count": null,
      "outputs": [
        {
          "output_type": "stream",
          "name": "stdout",
          "text": [
            "gas 2 small\n"
          ]
        }
      ]
    },
    {
      "cell_type": "code",
      "source": [
        "#Q3\n",
        "from pprint import pprint\n",
        "import csv\n",
        "file_path = \"./data-01-test-score.csv\"\n",
        "\n",
        "def read_file(file_path):\n",
        "  lst = []\n",
        "  with open(file_path, 'r') as raw: \n",
        "    reader = csv.reader(raw)\n",
        "    for lines in reader:\n",
        "      lst.append(lines)\n",
        "\n",
        "  return lst\n",
        "\n",
        "pprint(read_file(file_path))"
      ],
      "metadata": {
        "colab": {
          "base_uri": "https://localhost:8080/"
        },
        "id": "2BP_vZsVLXcN",
        "outputId": "787b7fae-fdc4-40b3-99fc-6a7e3f8602af"
      },
      "execution_count": null,
      "outputs": [
        {
          "output_type": "stream",
          "name": "stdout",
          "text": [
            "[['73', '80', '75', '152'],\n",
            " ['93', '88', '93', '185'],\n",
            " ['89', '91', '90', '180'],\n",
            " ['96', '98', '100', '196'],\n",
            " ['73', '66', '70', '142'],\n",
            " ['53', '46', '55', '101'],\n",
            " ['69', '74', '77', '149'],\n",
            " ['47', '56', '60', '115'],\n",
            " ['87', '79', '90', '175'],\n",
            " ['79', '70', '88', '164'],\n",
            " ['69', '70', '73', '141'],\n",
            " ['70', '65', '74', '141'],\n",
            " ['93', '95', '91', '184'],\n",
            " ['79', '80', '73', '152'],\n",
            " ['70', '73', '78', '148'],\n",
            " ['93', '89', '96', '192'],\n",
            " ['78', '75', '68', '147'],\n",
            " ['81', '90', '93', '183'],\n",
            " ['88', '92', '86', '177'],\n",
            " ['78', '83', '77', '159'],\n",
            " ['82', '86', '90', '177'],\n",
            " ['86', '82', '89', '175'],\n",
            " ['78', '83', '85', '175'],\n",
            " ['76', '83', '71', '149'],\n",
            " ['96', '93', '95', '192']]\n"
          ]
        }
      ]
    },
    {
      "cell_type": "code",
      "source": [
        "#Q4\n",
        "from pprint import pprint\n",
        "import csv\n",
        "file_path = \"./data-01-test-score.csv\"\n",
        "\n",
        "class ReadCSV():\n",
        "  def __init__(self, _filePath):\n",
        "    self.filePath = _filePath\n",
        "    self.__lst = []\n",
        "\n",
        "  def read_file(self):\n",
        "    with open(self.filePath, 'r') as raw: \n",
        "      reader = csv.reader(raw)\n",
        "      for lines in reader:\n",
        "        lines = [int(l) for l in lines]\n",
        "        self.__lst.append(lines)\n",
        "\n",
        "    return self.__lst\n",
        "\n",
        "  def merge_list(self):\n",
        "    return [sum(l) for l in self.__lst]\n",
        "\n",
        "readcsv = ReadCSV(file_path)\n",
        "pprint(readcsv.read_file())\n",
        "print(readcsv.merge_list())"
      ],
      "metadata": {
        "colab": {
          "base_uri": "https://localhost:8080/"
        },
        "id": "oQl0kEj0RpAW",
        "outputId": "1a6d5fcd-7421-43b1-fb1f-8b16aea7b603"
      },
      "execution_count": null,
      "outputs": [
        {
          "output_type": "stream",
          "name": "stdout",
          "text": [
            "[[73, 80, 75, 152],\n",
            " [93, 88, 93, 185],\n",
            " [89, 91, 90, 180],\n",
            " [96, 98, 100, 196],\n",
            " [73, 66, 70, 142],\n",
            " [53, 46, 55, 101],\n",
            " [69, 74, 77, 149],\n",
            " [47, 56, 60, 115],\n",
            " [87, 79, 90, 175],\n",
            " [79, 70, 88, 164],\n",
            " [69, 70, 73, 141],\n",
            " [70, 65, 74, 141],\n",
            " [93, 95, 91, 184],\n",
            " [79, 80, 73, 152],\n",
            " [70, 73, 78, 148],\n",
            " [93, 89, 96, 192],\n",
            " [78, 75, 68, 147],\n",
            " [81, 90, 93, 183],\n",
            " [88, 92, 86, 177],\n",
            " [78, 83, 77, 159],\n",
            " [82, 86, 90, 177],\n",
            " [86, 82, 89, 175],\n",
            " [78, 83, 85, 175],\n",
            " [76, 83, 71, 149],\n",
            " [96, 93, 95, 192]]\n",
            "[380, 459, 450, 490, 351, 255, 369, 278, 431, 401, 353, 350, 463, 384, 369, 470, 368, 447, 443, 397, 435, 432, 421, 379, 476]\n"
          ]
        }
      ]
    },
    {
      "cell_type": "code",
      "source": [
        "#Q5\n",
        "import csv\n",
        "file_path = \"./data-01-test-score.csv\"\n",
        "\n",
        "class ReadCSV():\n",
        "  def __init__(self, _filePath):\n",
        "    self.filePath = _filePath\n",
        "    self.__lst = []\n",
        "\n",
        "  def read_file(self):\n",
        "    with open(self.filePath, 'r') as raw: \n",
        "      reader = csv.reader(raw)\n",
        "      for lines in reader:\n",
        "        lines = [int(l) for l in lines]\n",
        "        self.__lst.append(lines)\n",
        "\n",
        "    return self.__lst\n",
        "\n",
        "  def merge_list(self):\n",
        "    self.read_file()\n",
        "    return sorted([sum(l)/len(l) for l in self.__lst])\n",
        "\n",
        "readcsv = ReadCSV(file_path)\n",
        "print(readcsv.merge_list())"
      ],
      "metadata": {
        "colab": {
          "base_uri": "https://localhost:8080/"
        },
        "id": "Q2cUrI-pXzXd",
        "outputId": "f2825183-656d-4088-d2d6-a591a4cf5b46"
      },
      "execution_count": null,
      "outputs": [
        {
          "output_type": "stream",
          "name": "stdout",
          "text": [
            "[63.75, 69.5, 87.5, 87.75, 88.25, 92.0, 92.25, 92.25, 94.75, 95.0, 96.0, 99.25, 100.25, 105.25, 107.75, 108.0, 108.75, 110.75, 111.75, 112.5, 114.75, 115.75, 117.5, 119.0, 122.5]\n"
          ]
        }
      ]
    },
    {
      "cell_type": "code",
      "source": [
        ""
      ],
      "metadata": {
        "id": "Cqz-AfK5cKqw"
      },
      "execution_count": null,
      "outputs": []
    }
  ]
}