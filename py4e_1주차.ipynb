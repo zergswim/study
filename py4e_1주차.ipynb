{
  "nbformat": 4,
  "nbformat_minor": 0,
  "metadata": {
    "colab": {
      "name": "py4e_1주차.ipynb",
      "provenance": [],
      "collapsed_sections": [],
      "authorship_tag": "ABX9TyPfE8BozhWe7/WeWEHClKMC",
      "include_colab_link": true
    },
    "kernelspec": {
      "name": "python3",
      "display_name": "Python 3"
    },
    "language_info": {
      "name": "python"
    }
  },
  "cells": [
    {
      "cell_type": "markdown",
      "metadata": {
        "id": "view-in-github",
        "colab_type": "text"
      },
      "source": [
        "<a href=\"https://colab.research.google.com/github/zergswim/study/blob/main/py4e_1%EC%A3%BC%EC%B0%A8.ipynb\" target=\"_parent\"><img src=\"https://colab.research.google.com/assets/colab-badge.svg\" alt=\"Open In Colab\"/></a>"
      ]
    },
    {
      "cell_type": "markdown",
      "source": [
        "**Q1. 파이썬으로 할 수 있는 일, 그 중에서 내가 하고 싶은 일:**\n",
        "\n",
        "A1. 파이썬은 생산성이 높은 언어로 공학/과학 프로그래밍 뿐만 아니라\n",
        "기계학습, 인공지능, 사물인식, 게임, 웹사이트 개발, 교육(코딩테스트?) 등 다양한 분야에 활용할 수 있습니다.\n",
        "\n",
        "저는 주로 인공지능과 교육(공학/과학/코딩테스트)쪽에 활용하는 편이지만,\n",
        "제가 정말 하고 싶은 것은 다른 분들이 파이썬 언어를 잘 활용하도록 가이드에 \n",
        "역활을 잘하고 싶습니다."
      ],
      "metadata": {
        "id": "WzySAHPz8irp"
      }
    },
    {
      "cell_type": "markdown",
      "source": [
        "**Q2. CPU, Main Memory, Secondary Memory 역활:**\n",
        "\n",
        "A2. CPU - Central Processing Unit(중앙 처리 장치), 컴퓨터의 대뇌피질?, 프로그램의 명령어를 해석하여 데어터를 연산/처리/제어함.\n",
        "\n",
        "Main Memory - 단기기억 담당(RAM), 전원이 꺼지면 기억상실..\n",
        "\n",
        "Secondary Memory - 장기기억 담당(SSD, HDD), 전원 꺼질때를 대비한 저장고"
      ],
      "metadata": {
        "id": "AmsOamJi8iKX"
      }
    },
    {
      "cell_type": "code",
      "source": [
        "#Q3. Error Message\n",
        "#1). SyntaxError, ValueError, TypeError 를 발생시키는 코드 & Debugging :\n",
        "#SyntaxError(문법오류)\n",
        "# sum = 1 x 1  \n",
        "sum = 1 * 1\n",
        "\n",
        "#ValueError(인자오류)\n",
        "# sum = 1 + int('1.0') \n",
        "sum = 1 + 1.0\n",
        "\n",
        "#TypeError(형태오류)\n",
        "# sum = 1 + '2' \n",
        "sum = 1 + 2\n",
        "\n",
        "#3). 다른 Error :\n",
        "#NameError(변수이름없음)\n",
        "# sum = 1 + ten \n",
        "ten = 10\n",
        "sum = 1 + ten\n",
        "\n",
        "#ZeroDivisionError\n",
        "# sum = 1 / 0 \n",
        "try:\n",
        "  sum = 1 / 0\n",
        "except ZeroDivisionError:\n",
        "  print(\"0으로 나눌수 없습니다.\")\n",
        "\n",
        "#AttributeError(속성없음)\n",
        "# sum = [1].add(1) \n",
        "sum = [1].append(1)"
      ],
      "metadata": {
        "colab": {
          "base_uri": "https://localhost:8080/"
        },
        "id": "Kp38u7PY8KrT",
        "outputId": "c96c228f-d1f7-4b00-9e33-4671301a67c1"
      },
      "execution_count": 42,
      "outputs": [
        {
          "output_type": "stream",
          "name": "stdout",
          "text": [
            "0으로 나눌수 없습니다.\n"
          ]
        }
      ]
    },
    {
      "cell_type": "code",
      "source": [
        "#Q4. 한국나이를 미국나이로 변환하는 프로그램 :\n",
        "try:\n",
        "  age_kor = int(input(\"한국나이는?\"))\n",
        "  print(\"한국나이: \", age_kor)\n",
        "\n",
        "  try:\n",
        "    birthday_YN = input(\"생일이 지났나요(Y/N)?\")\n",
        "    if(birthday_YN == 'Y'):\n",
        "      print(\"당신의 미국나이는 \", age_kor - 2 + 1, \"입니다.\")  \n",
        "    elif(birthday_YN == 'N'):\n",
        "      print(\"당신의 미국나이는 \", age_kor - 2, \"입니다.\")  \n",
        "    else:\n",
        "      print(\"생일여부(Y/N)를 입력해 주세요\")\n",
        "  except Exception as e:\n",
        "    print(e)\n",
        "\n",
        "except ValueError as e:\n",
        "  print(\"한국나이를 숫자(0~999)로 입력해주세요 : \", e)\n",
        "\n",
        "\n",
        "# 생일로 미국나이 계산\n",
        "# import math\n",
        "# from datetime import datetime as dt\n",
        "# birthday = input(\"생일은(yyyy-MM-dd)?\")\n",
        "# now = dt.now()\n",
        "# birth = dt.strptime(birthday, \"%Y-%m-%d\")\n",
        "# print(\"미국나이:\", math.floor((now - birth).days/365))"
      ],
      "metadata": {
        "colab": {
          "base_uri": "https://localhost:8080/"
        },
        "id": "eZUaJwXh8sIj",
        "outputId": "5b4aa330-7160-4dab-d62e-642cbc77fa08"
      },
      "execution_count": 96,
      "outputs": [
        {
          "output_type": "stream",
          "name": "stdout",
          "text": [
            "한국나이는?10\n",
            "한국나이:  10\n",
            "생일이 지났나요(Y/N)?Y\n",
            "당신의 미국나이는  9 입니다.\n"
          ]
        }
      ]
    },
    {
      "cell_type": "code",
      "source": [
        ""
      ],
      "metadata": {
        "id": "g8JZP10ASqzC"
      },
      "execution_count": null,
      "outputs": []
    }
  ]
}