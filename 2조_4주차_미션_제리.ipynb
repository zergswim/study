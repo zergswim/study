{
  "nbformat": 4,
  "nbformat_minor": 0,
  "metadata": {
    "colab": {
      "name": "2조_4주차_미션 제리.ipynb",
      "provenance": [],
      "collapsed_sections": [],
      "authorship_tag": "ABX9TyPD2Y4iFGGT06DGl8Pp0ZV9",
      "include_colab_link": true
    },
    "kernelspec": {
      "name": "python3",
      "display_name": "Python 3"
    },
    "language_info": {
      "name": "python"
    }
  },
  "cells": [
    {
      "cell_type": "markdown",
      "metadata": {
        "id": "view-in-github",
        "colab_type": "text"
      },
      "source": [
        "<a href=\"https://colab.research.google.com/github/zergswim/study/blob/main/2%EC%A1%B0_4%EC%A3%BC%EC%B0%A8_%EB%AF%B8%EC%85%98_%EC%A0%9C%EB%A6%AC.ipynb\" target=\"_parent\"><img src=\"https://colab.research.google.com/assets/colab-badge.svg\" alt=\"Open In Colab\"/></a>"
      ]
    },
    {
      "cell_type": "code",
      "execution_count": 51,
      "metadata": {
        "colab": {
          "base_uri": "https://localhost:8080/"
        },
        "id": "p8Aw_TtMPbt-",
        "outputId": "7e2d7502-f4b0-4e76-85dc-51e717b68689"
      },
      "outputs": [
        {
          "output_type": "stream",
          "name": "stdout",
          "text": [
            "HDD    19\n",
            "SSD    11\n",
            "dtype: int64\n"
          ]
        }
      ],
      "source": [
        "#Q1.\n",
        "import pandas as pd\n",
        "idx = [\"HDD\", \"SSD\", \"USB\", \"CLOUD\"]\n",
        "data = [19, 11, 5, 97]\n",
        "\n",
        "series = pd.Series(data, index=idx)\n",
        "filter = lambda x : x >= 10 and x <= 20\n",
        "series = series[series.apply(filter)]\n",
        "#series = series[series >= 10][series <= 20]\n",
        "\n",
        "print(series)"
      ]
    },
    {
      "cell_type": "code",
      "source": [
        "#Q2.\n",
        "import pandas as pd\n",
        "col = [\"Name\", \"Type\", \"Price\"]\n",
        "df1 = pd.DataFrame([['cherry','Fruit',100], ['mango','Fruit',110], ['potato','Vegetable',60], ['onion','Vegetable',80]], columns=col)\n",
        "df2 = pd.DataFrame([['pepper','Vegetable',50], ['carrot','Vegetable',70], ['banana','Fruit',90], ['kiwi','Fruit',120]], columns=col)\n",
        "\n",
        "df3 = pd.merge(df1, df2, how='outer')\n",
        "#df3 = pd.concat([df1, df2], axis=0)\n",
        "\n",
        "df_fruit = df3[df3.Type == 'Fruit'].sort_values('Price', ascending=False)\n",
        "df_veg = df3[df3.Type == 'Vegetable'].sort_values('Price', ascending=False)\n",
        "\n",
        "print(\"Sum of Top 2 Fruit Price : \", df_fruit[:2].sum().loc['Price'])\n",
        "print(\"Sum of Top 2 Vegetable Price : \", df_veg[:2].sum().loc['Price'])\n",
        "#print(\"Sum of Top 2 Fruit Price : \", sum(df_fruit[:2]['Price']))\n",
        "#print(\"Sum of Top 2 Vegetable Price : \", sum(df_veg[:2]['Price']))"
      ],
      "metadata": {
        "colab": {
          "base_uri": "https://localhost:8080/"
        },
        "id": "VDhohkyOTSt2",
        "outputId": "b264d149-97ed-4263-9474-d2e1fca7334e"
      },
      "execution_count": 60,
      "outputs": [
        {
          "output_type": "stream",
          "name": "stdout",
          "text": [
            "Sum of Top 2 Fruit Price :  230\n",
            "Sum of Top 2 Vegetable Price :  150\n"
          ]
        }
      ]
    },
    {
      "cell_type": "code",
      "source": [
        "#Q3.\n",
        "import pandas as pd\n",
        "idx = [\"Sue\", \"Ryan\", \"Jay\", \"Jane\", \"Anna\"]\n",
        "col = [\"round_1\", \"round_2\", \"round_3\", \"round_4\", \"round_5\"]\n",
        "data = [[55, 65, 60, 66, 57],\n",
        "        [64, 77, 71, 79, 67],\n",
        "        [88, 81, 79, 89, 77],\n",
        "        [45, 35, 30, 46, 47],\n",
        "        [91, 96, 90, 97, 99]]\n",
        "\n",
        "df = pd.DataFrame(data, columns=col, index=idx)\n",
        "\n",
        "col_round_6 = [11, 15, 13, 17, 19]\n",
        "df[\"round_6\"] = col_round_6\n",
        "\n",
        "import numpy as np\n",
        "print(df.agg([np.mean, np.max, np.min]))\n",
        "#print(df.describe().loc[[\"mean\", \"max\", \"min\"]])"
      ],
      "metadata": {
        "colab": {
          "base_uri": "https://localhost:8080/"
        },
        "id": "EmRJldyHXnJw",
        "outputId": "eaa58a94-01e5-4ab3-f2f6-feaa9ce8067b"
      },
      "execution_count": 22,
      "outputs": [
        {
          "output_type": "stream",
          "name": "stdout",
          "text": [
            "      round_1  round_2  round_3  round_4  round_5  round_6\n",
            "mean     68.6     70.8     66.0     75.4     69.4     15.0\n",
            "amax     91.0     96.0     90.0     97.0     99.0     19.0\n",
            "amin     45.0     35.0     30.0     46.0     47.0     11.0\n"
          ]
        }
      ]
    },
    {
      "cell_type": "code",
      "source": [
        "#Q4.\n",
        "import numpy as np\n",
        "import matplotlib.pyplot as plt\n",
        "\n",
        "t = np.arange(0., 5., 0.2)\n",
        "\n",
        "plt.plot(t, 'r--', t**2, 'gs', t**3, 'b^')\n",
        "plt.show()"
      ],
      "metadata": {
        "colab": {
          "base_uri": "https://localhost:8080/",
          "height": 265
        },
        "id": "gkdGrQ6fg1jb",
        "outputId": "1ce135f9-e53c-49f3-fe45-8293d53bf275"
      },
      "execution_count": null,
      "outputs": [
        {
          "output_type": "display_data",
          "data": {
            "image/png": "[encoded data removed]",
            "text/plain": [
              "<Figure size 432x288 with 1 Axes>"
            ]
          },
          "metadata": {
            "needs_background": "light"
          }
        }
      ]
    },
    {
      "cell_type": "code",
      "source": [
        "#Q5.\n",
        "import matplotlib.pyplot as plt\n",
        "\n",
        "names = ['group_a','group_b','group_c']\n",
        "values = [1, 10, 100]\n",
        "\n",
        "plt.figure(figsize=(9, 3))\n",
        "ax1 = plt.subplot(1,3,1) \n",
        "ax2 = plt.subplot(1,3,2) \n",
        "ax3 = plt.subplot(1,3,3) \n",
        "\n",
        "ax1.bar(names, values)\n",
        "ax2.scatter(names, values)\n",
        "ax3.plot(names, values)\n",
        "\n",
        "plt.show()"
      ],
      "metadata": {
        "colab": {
          "base_uri": "https://localhost:8080/",
          "height": 212
        },
        "id": "JQNkCCLLlla7",
        "outputId": "e63389bd-f504-4167-ddcc-d3025c1bfcca"
      },
      "execution_count": 64,
      "outputs": [
        {
          "output_type": "display_data",
          "data": {
            "image/png": "[encoded data removed]",
            "text/plain": [
              "<Figure size 648x216 with 3 Axes>"
            ]
          },
          "metadata": {
            "needs_background": "light"
          }
        }
      ]
    },
    {
      "cell_type": "code",
      "source": [
        ""
      ],
      "metadata": {
        "id": "UYpu_0o0TfUE"
      },
      "execution_count": null,
      "outputs": []
    }
  ]
}