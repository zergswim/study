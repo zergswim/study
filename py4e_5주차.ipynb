{
  "cells": [
    {
      "cell_type": "markdown",
      "metadata": {
        "id": "view-in-github",
        "colab_type": "text"
      },
      "source": [
        "<a href=\"https://colab.research.google.com/github/zergswim/study/blob/main/py4e_5%EC%A3%BC%EC%B0%A8.ipynb\" target=\"_parent\"><img src=\"https://colab.research.google.com/assets/colab-badge.svg\" alt=\"Open In Colab\"/></a>"
      ]
    },
    {
      "cell_type": "code",
      "execution_count": null,
      "metadata": {
        "colab": {
          "base_uri": "https://localhost:8080/"
        },
        "id": "eZUaJwXh8sIj",
        "outputId": "ba6700de-d49c-4b59-d9dd-edcb08080fea"
      },
      "outputs": [
        {
          "output_type": "stream",
          "name": "stdout",
          "text": [
            "베스킨라빈스 써리원 게임\n",
            "------------------\n",
            "My turn - 숫자를 입력하세요: 1 2 3\n",
            "현재 숫자 : 3 \n",
            "\n",
            "컴퓨터 : 4\n",
            "현재 숫자 : 4 \n",
            "\n",
            "My turn - 숫자를 입력하세요: 4 5\n",
            "My turn - 숫자를 입력하세요: 5 6\n",
            "현재 숫자 : 6 \n",
            "\n",
            "컴퓨터 : 7\n",
            "컴퓨터 : 8\n",
            "현재 숫자 : 8 \n",
            "\n"
          ]
        }
      ],
      "source": [
        "#Q1. 베스킨라빈스31 게임\n",
        "#조건1 - 나의 턴에서는 숫자를 직접 입력하며 한 번 입력 후에 space 한 번으로 구분\n",
        "#조건2 - 나와 컴퓨터 모두 한 턴에 1회 ~ 3회까지만 숫자를 외칠 수 있음\n",
        "#조건3 - 외쳐진 숫자보다 1큰 수만 외칠수 있음 (ex: 5 다음엔 무조건 6)\n",
        "\n",
        "import random \n",
        "\n",
        "def com(start_no):\n",
        "  cnt = random.randint(1,3)\n",
        "  rtn = 0\n",
        "  for i in range(cnt):\n",
        "    rtn = start_no+i\n",
        "    print(\"컴퓨터 :\", rtn)\n",
        "  return rtn\n",
        "\n",
        "def bs31():\n",
        "  print(\"베스킨라빈스 써리원 게임\")\n",
        "  print(\"------------------\")\n",
        "  no = 0\n",
        "  while no <= 31:\n",
        "    try:\n",
        "      my = input(\"My turn - 숫자를 입력하세요: \")\n",
        "      my_list = my.split(' ')\n",
        "      if no+1 == int(my_list[0]):\n",
        "        no = int(my_list[-1])\n",
        "      else:\n",
        "        continue\n",
        "      \n",
        "      print(\"현재 숫자 :\", no, \"\\n\")\n",
        "      no = com(no+1)\n",
        "      print(\"현재 숫자 :\", no, \"\\n\")\n",
        "    except:\n",
        "      pass\n",
        "\n",
        "bs31()"
      ]
    },
    {
      "cell_type": "code",
      "execution_count": null,
      "metadata": {
        "colab": {
          "base_uri": "https://localhost:8080/"
        },
        "id": "g8JZP10ASqzC",
        "outputId": "33d87484-5fcf-4bc0-bfb3-ad56cd47755b"
      },
      "outputs": [
        {
          "name": "stdout",
          "output_type": "stream",
          "text": [
            "2\n"
          ]
        }
      ],
      "source": [
        "#Q2. 특정글자가 전체글에 몇개있는지 찾는 함수\n",
        "\n",
        "import re\n",
        "def count_word(text, find_word):\n",
        "  rtn = re.findall(find_word, text)\n",
        "  print(len(rtn))\n",
        "\n",
        "a =\"\"\"안녕하세요. \n",
        "반갑습니다. 파이썬 공부는 정말 재밌습니다.\n",
        "\"\"\"\n",
        "count_word(a, \"습니다\")"
      ]
    },
    {
      "cell_type": "code",
      "execution_count": null,
      "metadata": {
        "colab": {
          "base_uri": "https://localhost:8080/"
        },
        "id": "1oU75OeP-E81",
        "outputId": "df288b4b-1453-49e3-e36f-7859b35c1587"
      },
      "outputs": [
        {
          "name": "stdout",
          "output_type": "stream",
          "text": [
            "잘못 쓴 사람:김갑\n",
            "잘못 쓴 번호:123456789 \n",
            "\n",
            "잘못 쓴 사람:박병\n",
            "잘못 쓴 번호:010-5678-111 \n",
            "\n",
            "잘못 쓴 사람:최정\n",
            "잘못 쓴 번호:111-1111-1111 \n",
            "\n"
          ]
        }
      ],
      "source": [
        "#Q3. 방명록을 잘못 쓴 사람의 이름과 번호를 출력하는 함수\n",
        "#조건.1 함수에 방명록을 넣으면 txt 파일로 저장되게 해줍니다.\n",
        "#조건.2 제대로 적은 방명록의 조건은 다음과 같습니다\n",
        "#010 으로 시작함\n",
        "#번호가 - 로 구분이 되어 있음\n",
        "#-를 포함하여 길이가 13임\n",
        "\n",
        "import re\n",
        "def wrong_guest_book(gbook):\n",
        "  f = open(\"guest_book.txt\", \"w\")\n",
        "  f.write(gbook)\n",
        "  f.close()\n",
        "\n",
        "  arr_gbook = gbook.split('\\n')\n",
        "  for g in arr_gbook:\n",
        "    rtn = re.findall(\"010-[0-9]{4}-[0-9]{4}$\", g)\n",
        "    if(len(rtn)==0):\n",
        "      name, phone = g.split(\",\")\n",
        "      print(\"잘못 쓴 사람:{0}\".format(name))\n",
        "      print(\"잘못 쓴 번호:{0}\".format(phone),\"\\n\")\n",
        "\n",
        "guest_book = \"\"\"김갑,123456789\n",
        "이을,010-1234-5678\n",
        "박병,010-5678-111\n",
        "최정,111-1111-1111\n",
        "정무,010-3333-3333\"\"\"\n",
        "wrong_guest_book(guest_book)"
      ]
    },
    {
      "cell_type": "code",
      "execution_count": null,
      "metadata": {
        "colab": {
          "base_uri": "https://localhost:8080/"
        },
        "id": "LZN8LxYhBiqI",
        "outputId": "37e754fd-995f-4baa-89ba-cc9fe7c26b63"
      },
      "outputs": [
        {
          "name": "stdout",
          "output_type": "stream",
          "text": [
            "50년06월 여자\n",
            "\n",
            "2000년 이후 출생자 입니까? 맞으면 o 아니면 x :o\n",
            "잘못된 번호입니다.\n",
            "올바른 번호를 넣어주세요.\n",
            "\n",
            "2000년 이후 출생자 입니까? 맞으면 o 아니면 x :x\n",
            "00년06월 여자\n",
            "\n"
          ]
        }
      ],
      "source": [
        "#Q4. 주민등록번호를 입력하면 몇년 몇월 생인지 그리고 남자인지 여자인지 출력하는 함수\n",
        "#조건.1 주민등록번호는 6자리 이후에 -로 구분되어야 하고 길이는 -포함 14임\n",
        "#조건.2 뒷자리는 1,3 은 남자 2,4는 여자\n",
        "#조건.3 00 ~ 21로 시작할 경우 2000년 이후 출생자인지 물어 볼 것 (맞으면 o 틀리면 x)\n",
        "#조건.4 뒷자리 3, 4를 가질 수 있는 사람은 00년생 이후 출생자 밖에 없음\n",
        "import re\n",
        "def check_id(jumin_no):\n",
        "  #조건.1 체크\n",
        "  rtn = re.findall(\"[0-9]{6}-[0-9]{7}$\",jumin_no)\n",
        "  # print(rtn)\n",
        "  if(len(rtn) == 0):\n",
        "    print(\"잘못된 번호입니다.\\n올바른 번호를 넣어주세요.\\n\")\n",
        "    return  \n",
        "\n",
        "  p1, p2 = jumin_no.split(\"-\")\n",
        "  yy = p1[0:2]\n",
        "  mm = p1[2:4]\n",
        "  gender = p2[0:1]\n",
        "\n",
        "  # 00~21로 시작할 경우\n",
        "  if int(yy) in range(0,22):\n",
        "    i = input(\"2000년 이후 출생자 입니까? 맞으면 o 아니면 x :\")\n",
        "    if(i == 'o'):\n",
        "      if(gender == '3'): gender = \"남자\"\n",
        "      elif(gender == '4'): gender = \"여자\"\n",
        "      else:\n",
        "        print(\"잘못된 번호입니다.\\n올바른 번호를 넣어주세요.\\n\")\n",
        "        return\n",
        "\n",
        "  if(gender == '1'): gender = \"남자\"\n",
        "  if(gender == '2'): gender = \"여자\"\n",
        "  \n",
        "  print(\"{0}년{1}월 {2}\\n\".format(yy, mm, gender))\n",
        "\n",
        "a = \"500629-2222222\"\n",
        "check_id(a)\n",
        "\n",
        "a = \"000629-2222222\"\n",
        "check_id(a)\n",
        "\n",
        "a = \"000629-2222222\"\n",
        "check_id(a)\n",
        "# 2000년 이후 출생자 입니까? 맞으면 o 아니면 x : x\n",
        "# 00년06월 여자"
      ]
    }
  ],
  "metadata": {
    "colab": {
      "collapsed_sections": [],
      "name": "py4e_5주차.ipynb",
      "provenance": [],
      "authorship_tag": "ABX9TyMNSI9LarMNppIZP6I7dpao",
      "include_colab_link": true
    },
    "kernelspec": {
      "display_name": "Python 3",
      "name": "python3"
    },
    "language_info": {
      "name": "python"
    }
  },
  "nbformat": 4,
  "nbformat_minor": 0
}