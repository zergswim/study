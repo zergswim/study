{
  "nbformat": 4,
  "nbformat_minor": 0,
  "metadata": {
    "colab": {
      "name": "py4e_2주차.ipynb",
      "provenance": [],
      "collapsed_sections": [],
      "authorship_tag": "ABX9TyNK5WXl7/gQKKYXX6kPTnbq",
      "include_colab_link": true
    },
    "kernelspec": {
      "name": "python3",
      "display_name": "Python 3"
    },
    "language_info": {
      "name": "python"
    }
  },
  "cells": [
    {
      "cell_type": "markdown",
      "metadata": {
        "id": "view-in-github",
        "colab_type": "text"
      },
      "source": [
        "<a href=\"https://colab.research.google.com/github/zergswim/study/blob/main/py4e_2%EC%A3%BC%EC%B0%A8.ipynb\" target=\"_parent\"><img src=\"https://colab.research.google.com/assets/colab-badge.svg\" alt=\"Open In Colab\"/></a>"
      ]
    },
    {
      "cell_type": "code",
      "source": [
        "#Q1. 컴퓨터와 함께하는 가위바위보 게임 :\n",
        "#조건1 : 함수의 인자로 나의 가위바위보 선택이 들어감(6가지)\n",
        "#조건2 : 누가 무엇을 냈고, 누가 승리했는지 출력이 되어야 함\n",
        "\n",
        "import random\n",
        "computer = random.randint(0,2)\n",
        "arr = [\"가위\", \"바위\", \"보\"]\n",
        "\n",
        "def checkValue(my):\n",
        "  try:  \n",
        "    myInt = int(my)\n",
        "    if(myInt >= 0 and myInt < 3):\n",
        "      return True, myInt\n",
        "  except:  \n",
        "    if(arr.count(my) > 0):\n",
        "      return True, arr.index(my)\n",
        "  return False, -1\n",
        "\n",
        "def checkWiner(myIdx, computer):\n",
        "  diff = myIdx-computer\n",
        "  if(diff == 0):\n",
        "    print(\"비겼습니다.\")\n",
        "  elif(diff == 1 or diff == -2):  \n",
        "    print(\"나 승리!\")\n",
        "  else:\n",
        "    print(\"컴퓨터 승리!\")\n",
        "\n",
        "def rcp(my):\n",
        "  chk, myIdx = checkValue(my)\n",
        "  if(chk):\n",
        "    print(\"나: \", arr[myIdx])\n",
        "    print(\"컴퓨터: \", arr[computer])\n",
        "    checkWiner(myIdx, computer)\n",
        "  else:\n",
        "    print(\"입력값이 유효하지 않습니다.\")\n",
        "  return\n",
        "\n",
        "my = input(\"가위 바위 보!(0~2 or 가위/바위/보): \")\n",
        "rcp(my)\n"
      ],
      "metadata": {
        "colab": {
          "base_uri": "https://localhost:8080/"
        },
        "id": "eZUaJwXh8sIj",
        "outputId": "b3c9be23-da09-4fcd-872d-a7f24fc55593"
      },
      "execution_count": 43,
      "outputs": [
        {
          "output_type": "stream",
          "name": "stdout",
          "text": [
            "가위 바위 보!(0~2 or 가위/바위/보): 바\n",
            "입력값이 유효하지 않습니다.\n"
          ]
        }
      ]
    },
    {
      "cell_type": "code",
      "source": [
        "#Q2. 월급을 입력하면 연봉을 계산해주는 계산기 (세전, 세후 출력, 과세구간 무시?) :\n",
        "def calTaxRate(ypay):\n",
        "  if(ypay <= 1200):\n",
        "    taxRate = 0.06\n",
        "  elif(ypay <= 4600):\n",
        "    taxRate = 0.15\n",
        "  elif(ypay <= 8800):\n",
        "    taxRate = 0.24\n",
        "  elif(ypay <= 15000):\n",
        "    taxRate = 0.35\n",
        "  elif(ypay <= 30000):\n",
        "    taxRate = 0.38\n",
        "  elif(ypay <= 50000):\n",
        "    taxRate = 0.40\n",
        "  elif(ypay > 50000):\n",
        "    taxRate = 0.42\n",
        "\n",
        "  return taxRate\n",
        "\n",
        "def yearly_payment(mpay):\n",
        "  ypay = mpay * 12\n",
        "  taxRate = calTaxRate(ypay)\n",
        "  print(\"세전 연봉 : \", ypay, \"만원\")\n",
        "  print(\"세후 연봉 : \", ypay - (ypay * taxRate), \"만원\")\n",
        "\n",
        "monthly_payment = 300\n",
        "yearly_payment(monthly_payment)"
      ],
      "metadata": {
        "id": "g8JZP10ASqzC",
        "colab": {
          "base_uri": "https://localhost:8080/"
        },
        "outputId": "8cfd916d-cd45-4408-8f48-36760a9b8be1"
      },
      "execution_count": 51,
      "outputs": [
        {
          "output_type": "stream",
          "name": "stdout",
          "text": [
            "세전 연봉 :  3600 만원\n",
            "세후 연봉 :  3060.0 만원\n"
          ]
        }
      ]
    },
    {
      "cell_type": "code",
      "source": [
        "#Q3. 학생 이름과 점수를 입력하면 학점을 출력하는 학점 변환기 :\n",
        "\n",
        "def check(score):\n",
        "  if(score >= 95):\n",
        "    return \"A+\"\n",
        "  elif(score >= 90):\n",
        "    return \"A\"\n",
        "  elif(score >= 85):\n",
        "    return \"B+\"\n",
        "  elif(score >= 80):\n",
        "    return \"B\"\n",
        "  elif(score >= 75):\n",
        "    return \"C+\"\n",
        "  elif(score >= 70):\n",
        "    return \"C\"\n",
        "  elif(score >= 65):\n",
        "    return \"D+\"\n",
        "  elif(score >= 60):\n",
        "    return \"D\"\n",
        "  else:\n",
        "    return \"F\"\n",
        "\n",
        "def grader(name, score):\n",
        "  print(\"학생이름 :\", name)\n",
        "  print(\"점수 :\", score, \"점\")\n",
        "  print(\"학점 :\", check(score))\n",
        "\n",
        "grader(\"이호창\", 99)"
      ],
      "metadata": {
        "colab": {
          "base_uri": "https://localhost:8080/"
        },
        "id": "1oU75OeP-E81",
        "outputId": "8abdf171-8711-481d-fb6f-84a36897d905"
      },
      "execution_count": 54,
      "outputs": [
        {
          "output_type": "stream",
          "name": "stdout",
          "text": [
            "학생이름 : 이호창\n",
            "점수 : 99 점\n",
            "학점 : A+\n"
          ]
        }
      ]
    },
    {
      "cell_type": "code",
      "source": [
        "#Q4. 나이와 현금 또는 카드를 입력하면 버스 요금이 출력되는 버스 요금 계산기 :\n",
        "\n",
        "def bus_fare(age, kind):\n",
        "  fare = 0\n",
        "  if(age >= 75):\n",
        "    fare = 0\n",
        "  elif(age >= 20):\n",
        "    if(kind == \"카드\"):\n",
        "      fare = 1200\n",
        "    elif(kind == \"현금\"):\n",
        "      fare = 1300\n",
        "  elif(age >= 14):\n",
        "    if(kind == \"카드\"):\n",
        "      fare = 720\n",
        "    elif(kind == \"현금\"):\n",
        "      fare = 1000\n",
        "  elif(age >= 8):\n",
        "    if(kind == \"카드\"):\n",
        "      fare = 450\n",
        "    elif(kind == \"현금\"):\n",
        "      fare = 450\n",
        "\n",
        "  print(\"나이:\", age, \"세\")\n",
        "  print(\"지불유형:\", kind)\n",
        "  print(\"버스요금:\", fare, \"원\")\n",
        "\n",
        "bus_fare(30, \"현금\")"
      ],
      "metadata": {
        "colab": {
          "base_uri": "https://localhost:8080/"
        },
        "id": "LZN8LxYhBiqI",
        "outputId": "08bc3bbe-b14d-41f2-bf8e-50c45c0725b6"
      },
      "execution_count": 60,
      "outputs": [
        {
          "output_type": "stream",
          "name": "stdout",
          "text": [
            "나이: 30 세\n",
            "지불유형: 현금\n",
            "버스요금: 1300 원\n"
          ]
        }
      ]
    },
    {
      "cell_type": "code",
      "source": [
        ""
      ],
      "metadata": {
        "id": "sIoQO92hT--V"
      },
      "execution_count": null,
      "outputs": []
    }
  ]
}