{
  "cells": [
    {
      "cell_type": "markdown",
      "metadata": {
        "id": "view-in-github",
        "colab_type": "text"
      },
      "source": [
        "<a href=\"https://colab.research.google.com/github/zergswim/study/blob/main/py4e_5%EC%A3%BC%EC%B0%A8.ipynb\" target=\"_parent\"><img src=\"https://colab.research.google.com/assets/colab-badge.svg\" alt=\"Open In Colab\"/></a>"
      ]
    },
    {
      "cell_type": "code",
      "execution_count": null,
      "metadata": {
        "colab": {
          "base_uri": "https://localhost:8080/"
        },
        "id": "eZUaJwXh8sIj",
        "outputId": "ba6700de-d49c-4b59-d9dd-edcb08080fea"
      },
      "outputs": [
        {
          "output_type": "stream",
          "name": "stdout",
          "text": [
            "베스킨라빈스 써리원 게임\n",
            "------------------\n",
            "My turn - 숫자를 입력하세요: 1 2 3\n",
            "현재 숫자 : 3 \n",
            "\n",
            "컴퓨터 : 4\n",
            "현재 숫자 : 4 \n",
            "\n",
            "My turn - 숫자를 입력하세요: 4 5\n",
            "My turn - 숫자를 입력하세요: 5 6\n",
            "현재 숫자 : 6 \n",
            "\n",
            "컴퓨터 : 7\n",
            "컴퓨터 : 8\n",
            "현재 숫자 : 8 \n",
            "\n"
          ]
        }
      ],
      "source": [
        "#Q1. 베스킨라빈스31 게임\n",
        "#조건1 - 나의 턴에서는 숫자를 직접 입력하며 한 번 입력 후에 space 한 번으로 구분\n",
        "#조건2 - 나와 컴퓨터 모두 한 턴에 1회 ~ 3회까지만 숫자를 외칠 수 있음\n",
        "#조건3 - 외쳐진 숫자보다 1큰 수만 외칠수 있음 (ex: 5 다음엔 무조건 6)\n",
        "\n",
        "import random \n",
        "\n",
        "def com(start_no):\n",
        "  cnt = random.randint(1,3)\n",
        "  rtn = 0\n",
        "  for i in range(cnt):\n",
        "    rtn = start_no+i\n",
        "    print(\"컴퓨터 :\", rtn)\n",
        "  return rtn\n",
        "\n",
        "def bs31():\n",
        "  print(\"베스킨라빈스 써리원 게임\")\n",
        "  print(\"------------------\")\n",
        "  no = 0\n",
        "  while no <= 31:\n",
        "    try:\n",
        "      my = input(\"My turn - 숫자를 입력하세요: \")\n",
        "      my_list = my.split(' ')\n",
        "      if no+1 == int(my_list[0]):\n",
        "        no = int(my_list[-1])\n",
        "      else:\n",
        "        continue\n",
        "      \n",
        "      print(\"현재 숫자 :\", no, \"\\n\")\n",
        "      no = com(no+1)\n",
        "      print(\"현재 숫자 :\", no, \"\\n\")\n",
        "    except:\n",
        "      pass\n",
        "\n",
        "bs31()"
      ]
    },
    {
      "cell_type": "code",
      "execution_count": null,
      "metadata": {
        "colab": {
          "base_uri": "https://localhost:8080/"
        },
        "id": "g8JZP10ASqzC",
        "outputId": "797526a1-f178-4719-af21-9e64393e4fc5"
      },
      "outputs": [
        {
          "output_type": "stream",
          "name": "stdout",
          "text": [
            "학생: 정무 점수: 90점 1등\n",
            "학생: 김갑 점수: 80점 2등\n",
            "학생: 이을 점수: 70점 3등\n",
            "학생: 박병 점수: 50점 4등\n",
            "학생: 최정 점수: 40점 5등\n"
          ]
        }
      ],
      "source": [
        "#Q2. 함수를 하나 만들어 채점을 하고 학생들의 점수를 출력하고 등수도 함께 출력\n",
        "\n",
        "# 학생 답\n",
        "s = [\"김갑,3242524215\",\n",
        "\"이을,3242524223\",\n",
        "\"박병,2242554131\",\n",
        "\"최정,4245242315\",\n",
        "\"정무,3242524315\"]\n",
        "\n",
        "# 정답지\n",
        "a = [3,2,4,2,5,2,4,3,1,2]\n",
        "rank_list = []\n",
        "\n",
        "def grader(s, a):\n",
        "  for i in s:\n",
        "    arr = i.split(\",\")\n",
        "    name = arr[0]\n",
        "    answers = arr[1]\n",
        "    score = 0\n",
        "    for idx, ans in enumerate(answers):\n",
        "      if int(ans) == a[idx]: score += 10\n",
        "    rank_list.append([score, name])\n",
        "\n",
        "  rank_list.sort(reverse=True)\n",
        "  for idx, (score, name) in enumerate(rank_list):\n",
        "    print(f\"학생: {name} 점수: {score}점 {idx+1}등\")\n",
        "\n",
        "grader(s, a)"
      ]
    },
    {
      "cell_type": "code",
      "execution_count": null,
      "metadata": {
        "colab": {
          "base_uri": "https://localhost:8080/"
        },
        "id": "1oU75OeP-E81",
        "outputId": "a3a83124-e18f-4173-9768-ea463b468401"
      },
      "outputs": [
        {
          "output_type": "stream",
          "name": "stdout",
          "text": [
            "{75, 77, 22}\n",
            "1차 시도\n",
            "숫자를 예측해보세요 :77\n",
            "숫자를 맞추셨습니다! 77는 최댓값입니다.\n",
            "2차 시도\n",
            "숫자를 예측해보세요 :75\n",
            "숫자를 맞추셨습니다! 75는 중간값입니다.\n",
            "3차 시도\n",
            "숫자를 예측해보세요 :22\n",
            "숫자를 맞추셨습니다! 22는 최솟값입니다.\n",
            "게임종료\n",
            "3 시도만에 예측 성공\n"
          ]
        }
      ],
      "source": [
        "#Q3. 숫자 맞추기 게임\n",
        "#조건1 - 숫자는 0 ~ 100까지 숫자를 3개 만듭니다(중복 불가).\n",
        "#조건2 - 5회, 10회까지 정답을 못맞추면 최솟값, 최대값에 대한 힌트를 줍니다.\n",
        "#조건3 - 정답을 맞추면, 맞춘 정답이 최솟값인지, 중간값인지, 최댓값인지 알려줍니다.\n",
        "\n",
        "import random\n",
        "answers = set()\n",
        "while len(answers) < 3:\n",
        "  answers.add(random.randint(0, 100))\n",
        "max_answer = max(answers)\n",
        "min_answer = min(answers)\n",
        "# mid_answer = [x for x in answers if max_answer != x and min_answer != x]\n",
        "print(answers)\n",
        "\n",
        "def hint(no):\n",
        "  if no > max_answer: print(f\"최대값은 {no}보다 작습니다.\")\n",
        "  if no < max_answer:  print(f\"최대값은 {no}보다 큽니다.\")\n",
        "  if no > min_answer: print(f\"최솟값은 {no}보다 작습니다.\")\n",
        "  if no < min_answer: print(f\"최솟값은 {no}보다 큽니다.\")\n",
        "\n",
        "def guess_numbers():\n",
        "  cnt = 0\n",
        "  while answers:\n",
        "    cnt +=1\n",
        "    print(f\"{cnt}차 시도\")\n",
        "    no = int(input(\"숫자를 예측해보세요 :\"))\n",
        "    if no in answers:\n",
        "      answers.remove(no)\n",
        "      # print(answers)\n",
        "      kind = \"중간값\"\n",
        "      if no == max_answer: kind = \"최댓값\"\n",
        "      if no == min_answer: kind = \"최솟값\"\n",
        "      print(f\"숫자를 맞추셨습니다! {no}는 {kind}입니다.\")\n",
        "    else:\n",
        "      print(f\"{no}는 없습니다.\")\n",
        "    \n",
        "    if cnt >= 5:\n",
        "      hint(no)\n",
        "\n",
        "  print(\"게임종료\")\n",
        "  print(f\"{cnt} 시도만에 예측 성공\")\n",
        "\n",
        "guess_numbers()"
      ]
    },
    {
      "cell_type": "code",
      "execution_count": null,
      "metadata": {
        "colab": {
          "base_uri": "https://localhost:8080/"
        },
        "id": "LZN8LxYhBiqI",
        "outputId": "e9f19212-903e-484a-b4c3-bfbf56db7685"
      },
      "outputs": [
        {
          "output_type": "stream",
          "name": "stdout",
          "text": [
            "6월 21일 월요일부터 100일 뒤는 9월 28일 화요일\n"
          ]
        }
      ],
      "source": [
        "#Q4. 날짜를 넣으면 100일 뒤가 몇월 며칠인지 계산해주는 함수\n",
        "#조건1 - \"오늘부터 1일\"이기 때문에 날짜를 계산할 때 오늘을 포함합니다\n",
        "#조건2 - 몇년도인지 구분하지 않고 윤년도 고려하지 않고 2월은 무조건 28일로 합니다.\n",
        "\n",
        "from datetime import datetime\n",
        "def after_100(m, d, w):\n",
        "  last_day = [31, 28, 31, 30, 31, 30, 31, 31, 30, 31, 30, 31]\n",
        "  weeks = ['월', '화', '수', '목', '금']\n",
        "\n",
        "  month = m-1\n",
        "  month_days = last_day[month] - d +1\n",
        "  while month_days < 100:\n",
        "    month += 1\n",
        "    if month > 11: month -= 12 #해가 넘어가는 경우, 처리\n",
        "    month_days += last_day[month]\n",
        "    remain = 100 - month_days\n",
        "\n",
        "    # print(month+1, last_day[month], remain)\n",
        "\n",
        "  idx = weeks.index(w)\n",
        "\n",
        "  print(f\"{m}월 {d}일 {w}요일부터 100일 뒤는 {month+1}월 {last_day[month] + remain}일 {weeks[idx+1]}요일\")\n",
        "\n",
        "after_100(6,21,\"월\")\n",
        "# 6월 21일 월요일부터 100일 뒤는 9월 28일 화요일"
      ]
    },
    {
      "cell_type": "code",
      "source": [
        ""
      ],
      "metadata": {
        "id": "2qEWOCHUWV1W"
      },
      "execution_count": null,
      "outputs": []
    }
  ],
  "metadata": {
    "colab": {
      "collapsed_sections": [],
      "name": "py4e_5주차.ipynb",
      "provenance": [],
      "authorship_tag": "ABX9TyPGPNuWzZTgfLYUluWVFveO",
      "include_colab_link": true
    },
    "kernelspec": {
      "display_name": "Python 3",
      "name": "python3"
    },
    "language_info": {
      "name": "python"
    }
  },
  "nbformat": 4,
  "nbformat_minor": 0
}