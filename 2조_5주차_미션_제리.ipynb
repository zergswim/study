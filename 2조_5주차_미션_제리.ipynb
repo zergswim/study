{
  "nbformat": 4,
  "nbformat_minor": 0,
  "metadata": {
    "colab": {
      "name": "2조_5주차_미션 제리.ipynb",
      "provenance": [],
      "collapsed_sections": [],
      "authorship_tag": "ABX9TyM8FKt/OtQQgvS2+ljYYc4U",
      "include_colab_link": true
    },
    "kernelspec": {
      "name": "python3",
      "display_name": "Python 3"
    },
    "language_info": {
      "name": "python"
    }
  },
  "cells": [
    {
      "cell_type": "markdown",
      "metadata": {
        "id": "view-in-github",
        "colab_type": "text"
      },
      "source": [
        "<a href=\"https://colab.research.google.com/github/zergswim/study/blob/main/2%EC%A1%B0_5%EC%A3%BC%EC%B0%A8_%EB%AF%B8%EC%85%98_%EC%A0%9C%EB%A6%AC.ipynb\" target=\"_parent\"><img src=\"https://colab.research.google.com/assets/colab-badge.svg\" alt=\"Open In Colab\"/></a>"
      ]
    },
    {
      "cell_type": "code",
      "execution_count": 41,
      "metadata": {
        "id": "MlhJ0wmBHLfP",
        "colab": {
          "base_uri": "https://localhost:8080/"
        },
        "outputId": "682d897f-6525-48e8-dc88-c272e648809c"
      },
      "outputs": [
        {
          "output_type": "stream",
          "name": "stdout",
          "text": [
            "Shape of X [N, C, H, W]:  torch.Size([100, 1, 28, 28])\n",
            "Shape of y:  torch.Size([100]) torch.int64\n"
          ]
        }
      ],
      "source": [
        "#Q1.\n",
        "import torch\n",
        "import torch.nn as nn\n",
        "import torchvision.datasets as dset\n",
        "import torchvision.transforms as transforms\n",
        "\n",
        "from torch.utils.data import DataLoader\n",
        "\n",
        "root = './data'\n",
        "mnist_train = dset.MNIST(root=root, train=True, transform=transforms.ToTensor(), download=True)\n",
        "mnist_test = dset.MNIST(root=root, train=False, transform=transforms.ToTensor(), download=True)\n",
        "\n",
        "batch_size = 100\n",
        "train_loader = DataLoader(mnist_train, batch_size = batch_size, shuffle=True)\n",
        "test_loader = DataLoader(mnist_test, batch_size = batch_size, shuffle=False)\n",
        "\n",
        "for X, y in test_loader:\n",
        "    print(\"Shape of X [N, C, H, W]: \", X.shape)\n",
        "    print(\"Shape of y: \", y.shape, y.dtype)\n",
        "    break"
      ]
    },
    {
      "cell_type": "code",
      "source": [
        "#Q2\n",
        "device = torch.device('cuda' if torch.cuda.is_available() else 'cpu')\n",
        "print(device)\n",
        "\n",
        "linear = nn.Linear(784, 10, bias=True).to(device)\n",
        "torch.nn.init.normal_(linear.weight)\n",
        "print(linear.weight)\n",
        "\n",
        "# class NeuralNetwork(nn.Module):\n",
        "#     def __init__(self):\n",
        "#         super(NeuralNetwork, self).__init__()\n",
        "#         self.flatten = nn.Flatten()\n",
        "#         self.linear_relu_stack = nn.Sequential(\n",
        "#             nn.Linear(28*28, 512),\n",
        "#             nn.ReLU(),\n",
        "#             nn.Linear(512, 512),\n",
        "#             nn.ReLU(),\n",
        "#             nn.Linear(512, 10)\n",
        "#         )\n",
        "\n",
        "#     def forward(self, x):\n",
        "#         x = self.flatten(x)\n",
        "#         logits = self.linear_relu_stack(x)\n",
        "#         return logits\n",
        "\n",
        "# model = NeuralNetwork().to(device)\n",
        "# print(model)"
      ],
      "metadata": {
        "colab": {
          "base_uri": "https://localhost:8080/"
        },
        "id": "sJQU1BvNJvR5",
        "outputId": "89be2dbf-dc96-4aa0-e232-6f263301a018"
      },
      "execution_count": 42,
      "outputs": [
        {
          "output_type": "stream",
          "name": "stdout",
          "text": [
            "cpu\n",
            "Parameter containing:\n",
            "tensor([[-1.4062,  1.0904,  1.5385,  ..., -0.7662, -0.5830, -1.9211],\n",
            "        [-2.1059, -1.4517, -0.5911,  ...,  0.2156,  0.9085,  0.1509],\n",
            "        [-1.8506,  2.2751,  0.8636,  ...,  0.4757,  0.2335,  0.4243],\n",
            "        ...,\n",
            "        [ 0.5657, -0.7762, -0.4549,  ..., -0.2063,  1.1449, -0.5056],\n",
            "        [ 0.5926,  0.7348,  0.1694,  ...,  1.8441, -0.2499, -0.0292],\n",
            "        [-0.7037,  0.5753,  0.2228,  ...,  0.3549,  0.6581, -0.0379]],\n",
            "       requires_grad=True)\n"
          ]
        }
      ]
    },
    {
      "cell_type": "code",
      "source": [
        "#Q3\n",
        "criterion = nn.CrossEntropyLoss().to(device)\n",
        "optimizer = torch.optim.SGD(linear.parameters(), lr=0.1)\n",
        "\n",
        "# loss_fn = nn.CrossEntropyLoss()\n",
        "# optimizer = torch.optim.SGD(model.parameters(), lr=1e-3)"
      ],
      "metadata": {
        "id": "nislZQXQOcQ5"
      },
      "execution_count": 43,
      "outputs": []
    },
    {
      "cell_type": "code",
      "source": [
        "#Q4\n",
        "training_epochs = 5\n",
        "for epoch in range(training_epochs):\n",
        "  for i, (imgs, labels) in enumerate(train_loader):\n",
        "    imgs, labels = imgs.to(device), labels.to(device)\n",
        "    imgs = imgs.view(-1, 28 * 28)\n",
        "\n",
        "\n",
        "\n",
        "# epochs = 5\n",
        "# for t in range(epochs):\n",
        "#     print(f\"Epoch {t+1}\\n-------------------------------\")\n",
        "#     train(train_dataloader, model, loss_fn, optimizer)\n",
        "#     test(test_dataloader, model, loss_fn)\n",
        "# print(\"Done!\")"
      ],
      "metadata": {
        "id": "EDl9ktHkSJ10"
      },
      "execution_count": 44,
      "outputs": []
    },
    {
      "cell_type": "code",
      "source": [
        "#Q5\n"
      ],
      "metadata": {
        "id": "eA95dEkgiDBn"
      },
      "execution_count": null,
      "outputs": []
    },
    {
      "cell_type": "code",
      "source": [
        "import pandas as pd\n",
        "import random\n",
        "\n",
        "r = random.sample(range(1, 100000), 10000)\n",
        "s = pd.Series(r)\n",
        "#print(s)\n",
        "f = lambda x : x>10 and x < 100\n",
        "%timeit s[s.apply(f)]\n",
        "%timeit s[s > 10][s < 100]\n",
        "%timeit s[(s > 10) & (s < 100)]\n"
      ],
      "metadata": {
        "colab": {
          "base_uri": "https://localhost:8080/"
        },
        "id": "EP2lIllfTDNh",
        "outputId": "5f70719a-abd0-4537-8fe7-43f0354908e3"
      },
      "execution_count": 62,
      "outputs": [
        {
          "output_type": "stream",
          "name": "stdout",
          "text": [
            "100 loops, best of 5: 2.58 ms per loop\n",
            "1000 loops, best of 5: 973 µs per loop\n",
            "1000 loops, best of 5: 393 µs per loop\n"
          ]
        }
      ]
    },
    {
      "cell_type": "code",
      "source": [
        ""
      ],
      "metadata": {
        "id": "2BOWOasOggV1"
      },
      "execution_count": null,
      "outputs": []
    }
  ]
}