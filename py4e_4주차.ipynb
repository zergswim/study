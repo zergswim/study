{
  "nbformat": 4,
  "nbformat_minor": 0,
  "metadata": {
    "colab": {
      "name": "py4e_4주차.ipynb",
      "provenance": [],
      "collapsed_sections": [],
      "authorship_tag": "ABX9TyOlYu9y86AL4g7URXyjrXX5",
      "include_colab_link": true
    },
    "kernelspec": {
      "name": "python3",
      "display_name": "Python 3"
    },
    "language_info": {
      "name": "python"
    }
  },
  "cells": [
    {
      "cell_type": "markdown",
      "metadata": {
        "id": "view-in-github",
        "colab_type": "text"
      },
      "source": [
        "<a href=\"https://colab.research.google.com/github/zergswim/study/blob/main/py4e_4%EC%A3%BC%EC%B0%A8.ipynb\" target=\"_parent\"><img src=\"https://colab.research.google.com/assets/colab-badge.svg\" alt=\"Open In Colab\"/></a>"
      ]
    },
    {
      "cell_type": "code",
      "source": [
        "#Q1. 숫자입력을 받고, 그 숫자의 구구단을 출력하는 함수\n",
        "#조건 1 : 홀수번째만 출력\n",
        "#조건 2 : 50 이하만 출력\n",
        "\n",
        "def gugudan(no):\n",
        "  print(no, \"단\")\n",
        "  for i in range(1,10, 2):\n",
        "    if(no*i <= 50):\n",
        "      print(no, 'x', i, \"=\", no*i)\n",
        "    else:\n",
        "      break\n",
        "\n",
        "number = int(input(\"몇단?:\"))\n",
        "gugudan(number)"
      ],
      "metadata": {
        "colab": {
          "base_uri": "https://localhost:8080/"
        },
        "id": "eZUaJwXh8sIj",
        "outputId": "e9887788-beef-4993-8a62-2bfe469473ac"
      },
      "execution_count": null,
      "outputs": [
        {
          "output_type": "stream",
          "name": "stdout",
          "text": [
            "몇단?:8\n",
            "8 단\n",
            "8 x 1 = 8\n",
            "8 x 3 = 24\n",
            "8 x 5 = 40\n"
          ]
        }
      ]
    },
    {
      "cell_type": "code",
      "source": [
        "#Q2. 가위바위보 업그레이드 버전\n",
        "#조건 1 : 게임을 몇판 진행할지 입력 받아주기\n",
        "#조건 2 : 0,1,2,가위,바위,보 이외에 입력을 받으면 재입력\n",
        "#조건 3 : 게입종료후 나와 컴퓨터의 총 전력 출력\n",
        "\n",
        "import random\n",
        "arr = [\"가위\", \"바위\", \"보\"]\n",
        "\n",
        "def checkValue(my):\n",
        "  try:  \n",
        "    myInt = int(my)\n",
        "    if(myInt >= 0 and myInt < 3):\n",
        "      return True, myInt\n",
        "  except:  \n",
        "    if(arr.count(my) > 0):\n",
        "      return True, arr.index(my)\n",
        "  return False, -1\n",
        "\n",
        "def checkWiner(round, myIdx, computer, pScore, cScore):\n",
        "  diff = myIdx-computer\n",
        "  if(diff == 0):\n",
        "    print(\"비겼습니다.\\n\")\n",
        "    pScore[1] += 1\n",
        "    cScore[1] += 1\n",
        "  elif(diff == 1 or diff == -2):  \n",
        "    print(round, \"판\", \"나의 승리!\\n\")\n",
        "    pScore[0] += 1\n",
        "    cScore[2] += 1\n",
        "  else:\n",
        "    print(round, \"판\", \"컴퓨터 승리!\\n\")\n",
        "    pScore[2] += 1\n",
        "    cScore[0] += 1\n",
        "\n",
        "  return pScore, cScore\n",
        "\n",
        "def rcp_advanced(games):\n",
        "  round = 1\n",
        "  pScore = [0,0,0]\n",
        "  cScore = [0,0,0]\n",
        "\n",
        "  while games+1 > round:\n",
        "    computer = random.randint(0,2)\n",
        "    my = input(\"가위 바위 보!(0~2 or 가위/바위/보): \")\n",
        "    chk, myIdx = checkValue(my)\n",
        "    if(chk):\n",
        "      print(\"나: \", arr[myIdx])\n",
        "      print(\"컴퓨터: \", arr[computer])\n",
        "      pScore, cScore = checkWiner(round, myIdx, computer, pScore, cScore)\n",
        "      round += 1\n",
        "    else:\n",
        "      print(\"입력값이 유효하지 않습니다. 다시 입력해주세요.\")\n",
        "\n",
        "  print(\"나의 전적:\",pScore[0],\"승\",pScore[1],\"무\",pScore[2],\"패\")\n",
        "  print(\"컴퓨터의 전적:\",cScore[0],\"승\",cScore[1],\"무\",cScore[2],\"패\")\n",
        "\n",
        "games = int(input(\"몇판을 진행하시겠습니까?\"))\n",
        "rcp_advanced(games)"
      ],
      "metadata": {
        "id": "g8JZP10ASqzC",
        "colab": {
          "base_uri": "https://localhost:8080/"
        },
        "outputId": "744902ea-8b0c-423e-fcf8-d9ffba2c040a"
      },
      "execution_count": null,
      "outputs": [
        {
          "output_type": "stream",
          "name": "stdout",
          "text": [
            "몇판을 진행하시겠습니까?3\n",
            "가위 바위 보!(0~2 or 가위/바위/보): 2\n",
            "나:  보\n",
            "컴퓨터:  가위\n",
            "1 판 컴퓨터 승리!\n",
            "\n",
            "가위 바위 보!(0~2 or 가위/바위/보): 1\n",
            "나:  바위\n",
            "컴퓨터:  가위\n",
            "2 판 나의 승리!\n",
            "\n",
            "가위 바위 보!(0~2 or 가위/바위/보): 3\n",
            "입력값이 유효하지 않습니다. 다시 입력해주세요.\n",
            "가위 바위 보!(0~2 or 가위/바위/보): 2\n",
            "나:  보\n",
            "컴퓨터:  바위\n",
            "3 판 나의 승리!\n",
            "\n",
            "나의 전적: 2 승 0 무 1 패\n",
            "컴퓨터의 전적: 1 승 0 무 2 패\n"
          ]
        }
      ]
    },
    {
      "cell_type": "code",
      "source": [
        "#Q3. 2개의 숫자를 입력하여 그 사이에 짝수만 출력하는 함수\n",
        "# 단 중앙값이 짝수가 아닌 경우, 출력하지 않음\n",
        "\n",
        "def find_even_number(n, m):\n",
        "  cnt = 0\n",
        "  sum = 0\n",
        "  for i in range(n, m+1):\n",
        "    if(i%2 == 0):\n",
        "      print(i, \"짝수\")\n",
        "      cnt += 1\n",
        "      sum += i\n",
        "\n",
        "  mid = int(sum/cnt)\n",
        "  if(mid%2 == 0):\n",
        "    print(mid, \"중앙값\")\n",
        "\n",
        "n = int(input(\"첫번째 수 입력:\"))\n",
        "m = int(input(\"두번째 수 입력:\"))\n",
        "find_even_number(n, m)"
      ],
      "metadata": {
        "colab": {
          "base_uri": "https://localhost:8080/"
        },
        "id": "1oU75OeP-E81",
        "outputId": "f3e72a7e-9e6a-4cc3-8eb3-b09448abd584"
      },
      "execution_count": null,
      "outputs": [
        {
          "output_type": "stream",
          "name": "stdout",
          "text": [
            "첫번째 수 입력:1\n",
            "두번째 수 입력:11\n",
            "2 짝수\n",
            "4 짝수\n",
            "6 짝수\n",
            "8 짝수\n",
            "10 짝수\n",
            "6 중앙값\n"
          ]
        }
      ]
    },
    {
      "cell_type": "code",
      "source": [
        "#Q4. 2개의 숫자를 입력하여 그사이에 소수가 몇 개인지 출력\n",
        "\n",
        "def IsPrime(no):\n",
        "  if no == 1: return False\n",
        "\n",
        "  for i in range (2, no):\n",
        "    if(no%i == 0):\n",
        "      return False\n",
        "\n",
        "  return True\n",
        "\n",
        "def count_prime_number(n, m):\n",
        "  cnt = 0\n",
        "  for i in range(n, m):\n",
        "    # print(i, IsPrime(i))\n",
        "    if(IsPrime(i)):\n",
        "      cnt += 1\n",
        "\n",
        "  print(\"소수갯수\", cnt)\n",
        "\n",
        "n = int(input(\"첫번째수 입력:\"))\n",
        "m = int(input(\"두번째수 입력:\"))\n",
        "count_prime_number(n, m)"
      ],
      "metadata": {
        "colab": {
          "base_uri": "https://localhost:8080/"
        },
        "id": "LZN8LxYhBiqI",
        "outputId": "c056d9c0-55c9-4a99-ab6a-2461a768cf64"
      },
      "execution_count": null,
      "outputs": [
        {
          "output_type": "stream",
          "name": "stdout",
          "text": [
            "첫번째수 입력:1\n",
            "두번째수 입력:11\n",
            "소수갯수 4\n"
          ]
        }
      ]
    }
  ]
}