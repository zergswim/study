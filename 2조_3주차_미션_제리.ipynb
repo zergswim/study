{
  "nbformat": 4,
  "nbformat_minor": 0,
  "metadata": {
    "colab": {
      "name": "2조_3주차_미션 제리.ipynb",
      "provenance": [],
      "collapsed_sections": [],
      "authorship_tag": "ABX9TyMSUAPcSnd5JOaUjQ+lsBwB",
      "include_colab_link": true
    },
    "kernelspec": {
      "name": "python3",
      "display_name": "Python 3"
    },
    "language_info": {
      "name": "python"
    }
  },
  "cells": [
    {
      "cell_type": "markdown",
      "metadata": {
        "id": "view-in-github",
        "colab_type": "text"
      },
      "source": [
        "<a href=\"https://colab.research.google.com/github/zergswim/study/blob/AI_basic/2%EC%A1%B0_3%EC%A3%BC%EC%B0%A8_%EB%AF%B8%EC%85%98_%EC%A0%9C%EB%A6%AC.ipynb\" target=\"_parent\"><img src=\"https://colab.research.google.com/assets/colab-badge.svg\" alt=\"Open In Colab\"/></a>"
      ]
    },
    {
      "cell_type": "code",
      "execution_count": 25,
      "metadata": {
        "colab": {
          "base_uri": "https://localhost:8080/"
        },
        "id": "o4zWep0SMPhn",
        "outputId": "be4e4439-c161-4d5b-c4a4-3ff5697c62dd"
      },
      "outputs": [
        {
          "output_type": "stream",
          "name": "stdout",
          "text": [
            "[[0.4484815  0.43384555]\n",
            " [0.50010039 0.64178167]\n",
            " [0.26998801 0.3121345 ]\n",
            " [0.69545142 0.66366724]\n",
            " [0.59306623 0.65242754]] (5, 2)\n"
          ]
        }
      ],
      "source": [
        "#Q1\n",
        "import numpy as np\n",
        "\n",
        "arr1 = np.random.rand(5,3)\n",
        "arr2 = np.random.rand(3,2)\n",
        "\n",
        "dot = arr1 @ arr2 \n",
        "#dot = arr1.dot(arr2)\n",
        "\n",
        "print(dot, dot.shape)"
      ]
    },
    {
      "cell_type": "code",
      "source": [
        "#Q2\n",
        "arr1 = np.array([[5,7],[9,11]], float)\n",
        "arr2 = np.array([[2,4],[6,8]], float)\n",
        "\n",
        "concat1 = np.vstack((arr1, arr2))\n",
        "concat2 = np.hstack((arr1, arr2))\n",
        "#concat1 = np.concatenate((arr1, arr2), axis=0)\n",
        "#concat2 = np.concatenate((arr1, arr2), axis=1)\n",
        "\n",
        "print(concat1)\n",
        "print(concat2)"
      ],
      "metadata": {
        "id": "Vt_slDCZjhbU",
        "colab": {
          "base_uri": "https://localhost:8080/"
        },
        "outputId": "dc2ad47e-b261-48e7-c6b9-f469b7bd6ac1"
      },
      "execution_count": 24,
      "outputs": [
        {
          "output_type": "stream",
          "name": "stdout",
          "text": [
            "[[ 5.  7.]\n",
            " [ 9. 11.]\n",
            " [ 2.  4.]\n",
            " [ 6.  8.]]\n",
            "[[ 5.  7.  2.  4.]\n",
            " [ 9. 11.  6.  8.]]\n"
          ]
        }
      ]
    },
    {
      "cell_type": "code",
      "source": [
        "#Q3\n",
        "xy = np.array([[1., 2., 3., 4., 5., 6.],\n",
        "              [10., 20., 30., 40., 50., 60.]])\n",
        "\n",
        "x_train = xy[0]\n",
        "y_train = xy[1]\n",
        "\n",
        "print(x_train, x_train.shape)\n",
        "print(y_train, y_train.shape)"
      ],
      "metadata": {
        "colab": {
          "base_uri": "https://localhost:8080/"
        },
        "id": "5hQ3Mdm455uu",
        "outputId": "1013b99e-11dc-47ed-8488-7d5d7b063123"
      },
      "execution_count": null,
      "outputs": [
        {
          "output_type": "stream",
          "name": "stdout",
          "text": [
            "[1. 2. 3. 4. 5. 6.] (6,)\n",
            "[10. 20. 30. 40. 50. 60.] (6,)\n"
          ]
        }
      ]
    },
    {
      "cell_type": "code",
      "source": [
        "#Q4\n",
        "beta_gd = np.random.rand(1)\n",
        "bais = np.random.rand(1)\n",
        "\n",
        "print(beta_gd, bais)"
      ],
      "metadata": {
        "colab": {
          "base_uri": "https://localhost:8080/"
        },
        "id": "1rtKJJKQ7gFU",
        "outputId": "6c4e2225-f9be-4f97-99d7-df4cb2f58158"
      },
      "execution_count": null,
      "outputs": [
        {
          "output_type": "stream",
          "name": "stdout",
          "text": [
            "[0.83914004] [0.90195064]\n"
          ]
        }
      ]
    },
    {
      "cell_type": "code",
      "source": [
        "#Q5\n",
        "import numpy as np\n",
        "xy = np.array([[1., 2., 3., 4., 5., 6.],\n",
        "              [3., 6., 9., 12., 15., 18.]])\n",
        "\n",
        "#-1:size를 기반으로 row 개수 산정, 1차원 행렬변환\n",
        "x_train = xy[0].reshape(-1,1)\n",
        "y_train = xy[1].reshape(-1,1)\n",
        "\n",
        "x_train = np.random.rand(6,180).reshape(-1,180)\n",
        "y_train = (np.random.rand(6)*10).reshape(-1,1)\n",
        "\n",
        "#print(x_train, y_train)\n",
        "\n",
        "beta_gd = np.random.rand(1,180)\n",
        "bais = np.random.rand(1)\n",
        "\n",
        "learning_rate = 0.01\n",
        "\n",
        "import math\n",
        "def l2norm(x):\n",
        "  x_norm = x * x\n",
        "  x_norm = np.sum(x_norm)\n",
        "  x_norm = np.sqrt(x_norm)\n",
        "  return x_norm\n",
        "  #rtn = [a*a for a in arr]\n",
        "  #print(rtn)\n",
        "  #return math.sqrt(sum(rtn))\n",
        "\n",
        "for i in range(1000+1):\n",
        "\n",
        "  error = (y_train @ np.ones((1,180))) - (x_train @ beta_gd.T)\n",
        "  grad = - x_train.T @ error# + bais #여기서 bais 가 왜 필요했을까?\n",
        "  beta_gd = beta_gd - learning_rate * grad\n",
        "  #bais = bais - learning_rate * grad\n",
        "\n",
        "  #print(error)\n",
        "  #print(l2norm(error), l2norm(grad), l2norm(beta_gd))\n",
        "\n",
        "  if i%100 == 0:\n",
        "    print(\"Epoch ({:10d}/1000) error : {:10f} grad : {:10f} beta_gd : {:10f} bais : {:10f}\".format(i, l2norm(error), l2norm(grad), l2norm(beta_gd), l2norm(bais)))"
      ],
      "metadata": {
        "colab": {
          "base_uri": "https://localhost:8080/"
        },
        "id": "5eQ9QbG49IwO",
        "outputId": "cd640b30-4020-424e-8278-f8ce02b8ac36"
      },
      "execution_count": 18,
      "outputs": [
        {
          "output_type": "stream",
          "name": "stdout",
          "text": [
            "Epoch (         0/1000) error : 1290.356612 grad : 22076.968793 beta_gd : 148.803145 bais :   0.507441\n",
            "Epoch (       100/1000) error : 63566517606205819207120404348928.000000 grad : 1089316819116399000148925971693568.000000 beta_gd : 7183777048333440113640787148800.000000 bais :   0.507441\n",
            "Epoch (       200/1000) error : 3222922711914822083828577112824710968123504616906675223265280.000000 grad : 55230081008224399837798041593644770475549337003813156476157952.000000 beta_gd : 364228827978331974714913582460894315298880692241857098285056.000000 bais :   0.507441\n",
            "Epoch (       300/1000) error : 163407265304792409167537451898158293103102201605073125307697084830125780812692465825873920.000000 grad : 2800252226574218812676230843380167460261433670706574823077185024817633388880798578695471104.000000 beta_gd : 18466976109938394446647646971848513824734455727538632899442910587673171801522396897214464.000000 bais :   0.507441\n",
            "Epoch (       400/1000) error : 8285006108175175528386204445123647699129613185075478035351208767721468462378583755072653419942470987539480841247784960.000000 grad : 141977204981216507810872652793998700487341430056275512434192953268224720799885188478870548395544950578064602745523929088.000000 beta_gd : 936304818423991532930930946427957740225834387265092134934393557679604363825021677133511366821405531009848951967842304.000000 bais :   0.507441\n",
            "Epoch (       500/1000) error : 420062878382231134835356874794613683659627360275404236489925676361979721141396316840350396743467895024000086289512734572128763000201037622726885376.000000 grad : 7198468246176078293274625062419673890499362798610010502539985923699732771697186361663433865125660196182128911632167979774377289568179712512655097856.000000 beta_gd : 47472131213306058663519436685188383348941319480413706599204610323257964843702752801472405696453191748078702522731950132673616654847492942519599104.000000 bais :   0.507441\n",
            "Epoch (       600/1000) error :        inf grad :        inf beta_gd :        inf bais :   0.507441\n",
            "Epoch (       700/1000) error :        inf grad :        inf beta_gd :        inf bais :   0.507441\n",
            "Epoch (       800/1000) error :        inf grad :        inf beta_gd :        inf bais :   0.507441\n",
            "Epoch (       900/1000) error :        inf grad :        inf beta_gd :        inf bais :   0.507441\n",
            "Epoch (      1000/1000) error :        inf grad :        inf beta_gd :        inf bais :   0.507441\n"
          ]
        },
        {
          "output_type": "stream",
          "name": "stderr",
          "text": [
            "/usr/local/lib/python3.7/dist-packages/ipykernel_launcher.py:22: RuntimeWarning: overflow encountered in multiply\n"
          ]
        }
      ]
    },
    {
      "cell_type": "code",
      "source": [
        "lst = [[a*0.2 for a in range(10)], [a*0.1 for a in range(10)]]\n",
        "print(type(lst), lst.shape)"
      ],
      "metadata": {
        "colab": {
          "base_uri": "https://localhost:8080/",
          "height": 194
        },
        "id": "3Ix_aoLc91gC",
        "outputId": "ed226dd0-7eee-43fc-f2ed-c25d62930567"
      },
      "execution_count": 18,
      "outputs": [
        {
          "output_type": "error",
          "ename": "AttributeError",
          "evalue": "ignored",
          "traceback": [
            "\u001b[0;31m---------------------------------------------------------------------------\u001b[0m",
            "\u001b[0;31mAttributeError\u001b[0m                            Traceback (most recent call last)",
            "\u001b[0;32m<ipython-input-18-103d842b14e0>\u001b[0m in \u001b[0;36m<module>\u001b[0;34m()\u001b[0m\n\u001b[1;32m      1\u001b[0m \u001b[0mlst\u001b[0m \u001b[0;34m=\u001b[0m \u001b[0;34m[\u001b[0m\u001b[0;34m[\u001b[0m\u001b[0ma\u001b[0m\u001b[0;34m*\u001b[0m\u001b[0;36m0.2\u001b[0m \u001b[0;32mfor\u001b[0m \u001b[0ma\u001b[0m \u001b[0;32min\u001b[0m \u001b[0mrange\u001b[0m\u001b[0;34m(\u001b[0m\u001b[0;36m10\u001b[0m\u001b[0;34m)\u001b[0m\u001b[0;34m]\u001b[0m\u001b[0;34m,\u001b[0m \u001b[0;34m[\u001b[0m\u001b[0ma\u001b[0m\u001b[0;34m*\u001b[0m\u001b[0;36m0.1\u001b[0m \u001b[0;32mfor\u001b[0m \u001b[0ma\u001b[0m \u001b[0;32min\u001b[0m \u001b[0mrange\u001b[0m\u001b[0;34m(\u001b[0m\u001b[0;36m10\u001b[0m\u001b[0;34m)\u001b[0m\u001b[0;34m]\u001b[0m\u001b[0;34m]\u001b[0m\u001b[0;34m\u001b[0m\u001b[0;34m\u001b[0m\u001b[0m\n\u001b[0;32m----> 2\u001b[0;31m \u001b[0mprint\u001b[0m\u001b[0;34m(\u001b[0m\u001b[0mtype\u001b[0m\u001b[0;34m(\u001b[0m\u001b[0mlst\u001b[0m\u001b[0;34m)\u001b[0m\u001b[0;34m,\u001b[0m \u001b[0mlst\u001b[0m\u001b[0;34m.\u001b[0m\u001b[0mshape\u001b[0m\u001b[0;34m)\u001b[0m\u001b[0;34m\u001b[0m\u001b[0;34m\u001b[0m\u001b[0m\n\u001b[0m",
            "\u001b[0;31mAttributeError\u001b[0m: 'list' object has no attribute 'shape'"
          ]
        }
      ]
    },
    {
      "cell_type": "code",
      "source": [
        ""
      ],
      "metadata": {
        "id": "T4ZUZ0ByKSp3"
      },
      "execution_count": null,
      "outputs": []
    }
  ]
}