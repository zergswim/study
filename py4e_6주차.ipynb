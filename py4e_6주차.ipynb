{
  "cells": [
    {
      "cell_type": "markdown",
      "metadata": {
        "id": "view-in-github",
        "colab_type": "text"
      },
      "source": [
        "<a href=\"https://colab.research.google.com/github/zergswim/study/blob/main/py4e_6%EC%A3%BC%EC%B0%A8.ipynb\" target=\"_parent\"><img src=\"https://colab.research.google.com/assets/colab-badge.svg\" alt=\"Open In Colab\"/></a>"
      ]
    },
    {
      "cell_type": "code",
      "execution_count": 8,
      "metadata": {
        "colab": {
          "base_uri": "https://localhost:8080/"
        },
        "id": "eZUaJwXh8sIj",
        "outputId": "124d3825-7bdc-4ebd-cd91-28a9cd2f67cd"
      },
      "outputs": [
        {
          "output_type": "stream",
          "name": "stdout",
          "text": [
            "조선과 고려에 모두 있는 왕 이름 : 태조\n",
            "조선과 고려에 모두 있는 왕 이름 : 정종\n",
            "조선과 고려에 모두 있는 왕 이름 : 경종\n",
            "조선과 고려에 모두 있는 왕 이름 : 성종\n",
            "조선과 고려에 모두 있는 왕 이름 : 현종\n",
            "조선과 고려에 모두 있는 왕 이름 : 문종\n",
            "조선과 고려에 모두 있는 왕 이름 : 순종\n",
            "조선과 고려에 모두 있는 왕 이름 : 헌종\n",
            "조선과 고려에 모두 있는 왕 이름 : 숙종\n",
            "조선과 고려에 모두 있는 왕 이름 : 예종\n",
            "조선과 고려에 모두 있는 왕 이름 : 인종\n",
            "조선과 고려에 모두 있는 왕 이름 : 명종\n",
            "조선과 고려에 모두 있는 왕 이름 : 고종\n",
            "조선과 고려에 모두 있는 왕 이름은 총 13개 입니다\n"
          ]
        }
      ],
      "source": [
        "#Q1. 고려시대와 조선시대 왕 이름 중에서 고려에도 있고 조선에도 있는 이름은 몇개 일까요?\n",
        "#조건1 - 중복되는 왕 이름 출력\n",
        "#조건2 - 중복되는 왕 이름의 수 출력\n",
        "\n",
        "# 왕이름\n",
        "korea_king = \"태조,혜종,정종,광종,경종,성종,목종,현종,덕종,정종,문종,순종,선종,헌종,숙종,예종,인종,의종,명종,신종,희종,강종,고종,원조,충렬왕,충선왕,충숙왕,충혜왕,충목왕,충정왕,공민왕,우왕,창왕,공양왕\"\n",
        "chosun_king = \"태조,정종,태종,세종,문종,단종,세조,예종,성종,연산군,중종,인종,명종,선조,광해군,인조,효종,현종,숙종,경종,영조,정조,순조,헌종,철종,고종,순종\"\n",
        "\n",
        "k_dict = {}\n",
        "arr_k = korea_king.split(',')\n",
        "arr_c = chosun_king.split(',')\n",
        "\n",
        "def makeKey(k):\n",
        "  if k not in k_dict.keys(): k_dict[k] = 1\n",
        "  else: k_dict[k] += 1\n",
        "\n",
        "for k in arr_k: makeKey(k)  \n",
        "for c in arr_c: makeKey(c)\n",
        "\n",
        "cnt = 0\n",
        "for k, v in k_dict.items():\n",
        "   if v > 1: print(\"조선과 고려에 모두 있는 왕 이름 :\", k); cnt+=1\n",
        "\n",
        "print(f\"조선과 고려에 모두 있는 왕 이름은 총 {cnt}개 입니다\")"
      ]
    },
    {
      "cell_type": "code",
      "execution_count": 31,
      "metadata": {
        "colab": {
          "base_uri": "https://localhost:8080/"
        },
        "id": "g8JZP10ASqzC",
        "outputId": "fc7aac37-8e1b-4df8-b102-df1e6c70443d"
      },
      "outputs": [
        {
          "output_type": "stream",
          "name": "stdout",
          "text": [
            "보너스 대상자 병돌이\n",
            "보너스 대상자 을순이\n",
            "면담 대상자 갑순이\n"
          ]
        }
      ],
      "source": [
        "#Q2. 파이썬을 이용하여 함수를 만들어 보너스 대상자와 면담 대상자를 골라주세요.\n",
        "#조건 1 - 예비 보너스 대상자는 평균 실적 1등 2등 입니다.\n",
        "#조건 2 - 예비 면담 대상자는 평균 실적 5등 6등 입니다.\n",
        "#조건 3 - 보너스 대상자의 평균 실적이 5보다 크지 않으면 보너스 대상자에서 제외 됩니다.\n",
        "#조건 4 - 면담 대상자의 평균 실적이 3보다 크면 면담 대상자에서 제외 됩니다.\n",
        "\n",
        "# 이름, 실적\n",
        "member_names = [\"갑돌이\", \"갑순이\", \"을돌이\", \"을순이\", \"병돌이\", \"병순이\"]\n",
        "member_records = [[4,5,3,5,6,5,3,4,1,3,4,5],[2,3,4,3,1,2,0,3,2,5,7,2], \n",
        "           [1,3,0,3,3,4,5,6,7,2,2,1],[3,2,9,2,3,5,6,6,4,6,9,9],\n",
        "           [8,7,7,5,6,7,5,8,8,6,10,9],[7,8,4,9,5,10,3,3,2,2,1,3]]\n",
        "\n",
        "rank_list = []\n",
        "\n",
        "def sales_management(names, records):\n",
        "  for n, r in zip(names, records):\n",
        "    rank_list.append((n, sum(r), sum(r)/len(r)))\n",
        "\n",
        "  rank_list.sort(reverse=True, key=lambda rank_list: rank_list[1])\n",
        "  # print(rank_list)\n",
        "  for idx, r in enumerate(rank_list):\n",
        "    name, avg = r[0], r[2]\n",
        "    if idx == 0 and avg>5: print(\"보너스 대상자\", name)\n",
        "    if idx == 1 and avg>5: print(\"보너스 대상자\", name)\n",
        "    if idx == 4 and avg<3: print(\"면담 대상자\", name)\n",
        "    if idx == 5 and avg<3: print(\"면담 대상자\", name)\n",
        "\n",
        "sales_management(member_names, member_records)"
      ]
    },
    {
      "cell_type": "code",
      "source": [
        "#Q3.종목과 수익률만 출력하시고 종목별 수익률이 높은 순서대로 출력해주세요. (소수 둘째자리까지 출력)\n",
        "\n",
        "stocks = \"삼성전자/10/85000,카카오/15/130000,LG화학/3/820000,NAVER/5/420000\"\n",
        "sells = [82000, 160000, 835000, 410000]\n",
        "\n",
        "s_list = []\n",
        "def stock_profit(stocks, sells):\n",
        "  arr = stocks.split(',')\n",
        "  for idx, a in enumerate(arr):\n",
        "    name, cnt, price = a.split('/')\n",
        "    rate = (sells[idx]-int(price))/int(price)*100\n",
        "    s_list.append((name, rate))\n",
        "\n",
        "  s_list.sort(reverse=True, key=lambda s_list:s_list[1])\n",
        "  for s in s_list:\n",
        "    print(f\"{s[0]}의 수익률 {s[1]:.3}\",)\n",
        "\n",
        "stock_profit(stocks, sells)"
      ],
      "metadata": {
        "colab": {
          "base_uri": "https://localhost:8080/"
        },
        "id": "Zkvv1UGLrpal",
        "outputId": "18fd9a99-8c35-4139-f2dd-0dab89bff41b"
      },
      "execution_count": 50,
      "outputs": [
        {
          "output_type": "stream",
          "name": "stdout",
          "text": [
            "카카오의 수익률 23.1\n",
            "LG화학의 수익률 1.83\n",
            "NAVER의 수익률 -2.38\n",
            "삼성전자의 수익률 -3.53\n"
          ]
        }
      ]
    },
    {
      "cell_type": "code",
      "source": [
        "#Q4.회원 정보를 출력하고 할인 쿠폰을 받을 회원이 누구인지 출력하는 함수를 만들어 주세요.\n",
        "#조건1 - 8회 이상 구매한 회원이 VIP대상\n",
        "#조건2 - 전화번호가 없으면 쿠폰을 받을 수 없음\n",
        "#조건3 - 전화번호가 없으면 000-0000-0000으로 출력할 것\n",
        "\n",
        "# 6명의 회원이고 \"아이디,나이,전화번호,성별,지역,구매횟수\" 순서로 입력되어 있음\n",
        "info = \"abc,21세,010-1234-5678,남자,서울,5,cdb,25세,x,남자,서울,4,bbc,30세,010-2222-3333,여자,서울,3,ccb,29세,x,여자,경기,9,dab,26세,x,남자,인천,8,aab,23세,010-3333-1111,여자,경기,10\"\n",
        "\n",
        "info_dict = {x:[] for x in ['아이디','나이','전화번호','성별','지역','구매횟수']}\n",
        "vip_list = []\n",
        "def good_customer(info):\n",
        "  arr = info.split(\",\")\n",
        "  for i in range(0, len(arr), 6):\n",
        "    info_dict['아이디'].append(arr[i])\n",
        "    info_dict['나이'].append(arr[i+1])\n",
        "    if arr[i+2]=='x': info_dict['전화번호'].append('000-0000-0000')\n",
        "    else: info_dict['전화번호'].append(arr[i+2])\n",
        "    info_dict['성별'].append(arr[i+3])\n",
        "    info_dict['지역'].append(arr[i+4])\n",
        "    info_dict['구매횟수'].append(arr[i+5])\n",
        "    if int(arr[i+5]) >= 8: vip_list.append(arr[i])\n",
        "  print(info_dict)\n",
        "  \n",
        "  for vip in vip_list:\n",
        "    idx = info_dict['아이디'].index(vip)\n",
        "    if info_dict['전화번호'][idx] != '000-0000-0000':\n",
        "      print(f\"할인 쿠폰을 받을 회원정보 아이디:{vip}, 나이:{info_dict['나이'][idx]}, 전화번화:{info_dict['전화번호'][idx]}, 성별:{info_dict['성별'][idx]}, 지역:{info_dict['지역'][idx]}, 구매횟수:{info_dict['구매횟수'][idx]}\")\n",
        "\n",
        "good_customer(info)"
      ],
      "metadata": {
        "colab": {
          "base_uri": "https://localhost:8080/"
        },
        "id": "7hdPh5iqxf38",
        "outputId": "a07bac35-75d5-4aed-f8a6-4257def759de"
      },
      "execution_count": 74,
      "outputs": [
        {
          "output_type": "stream",
          "name": "stdout",
          "text": [
            "{'아이디': ['abc', 'cdb', 'bbc', 'ccb', 'dab', 'aab'], '나이': ['21세', '25세', '30세', '29세', '26세', '23세'], '전화번호': ['010-1234-5678', '000-0000-0000', '010-2222-3333', '000-0000-0000', '000-0000-0000', '010-3333-1111'], '성별': ['남자', '남자', '여자', '여자', '남자', '여자'], '지역': ['서울', '서울', '서울', '경기', '인천', '경기'], '구매횟수': ['5', '4', '3', '9', '8', '10']}\n",
            "할인 쿠폰을 받을 회원정보 아이디:aab, 나이:23세, 전화번화:010-3333-1111, 성별:여자, 지역:경기, 구매횟수:10\n"
          ]
        }
      ]
    },
    {
      "cell_type": "code",
      "source": [
        ""
      ],
      "metadata": {
        "id": "miXQE08d074Q"
      },
      "execution_count": null,
      "outputs": []
    }
  ],
  "metadata": {
    "colab": {
      "collapsed_sections": [],
      "name": "py4e_6주차.ipynb",
      "provenance": [],
      "authorship_tag": "ABX9TyMz6M12cBc1g/rdN4KkUO+D",
      "include_colab_link": true
    },
    "kernelspec": {
      "display_name": "Python 3",
      "name": "python3"
    },
    "language_info": {
      "name": "python"
    }
  },
  "nbformat": 4,
  "nbformat_minor": 0
}